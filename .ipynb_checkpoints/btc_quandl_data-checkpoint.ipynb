{
 "cells": [
  {
   "cell_type": "code",
   "execution_count": 1,
   "metadata": {
    "colab": {
     "base_uri": "https://localhost:8080/"
    },
    "id": "SyEYA7pa1Unk",
    "outputId": "42eb29d7-26ae-4545-93b9-ec96c1efaf7e"
   },
   "outputs": [
    {
     "name": "stdout",
     "output_type": "stream",
     "text": [
      "Requirement already satisfied: quandl in /home/ania/anaconda3/lib/python3.8/site-packages (3.6.1)\n",
      "Requirement already satisfied: more-itertools in /home/ania/anaconda3/lib/python3.8/site-packages (from quandl) (8.7.0)\n",
      "Requirement already satisfied: six in /home/ania/anaconda3/lib/python3.8/site-packages (from quandl) (1.15.0)\n",
      "Requirement already satisfied: requests>=2.7.0 in /home/ania/anaconda3/lib/python3.8/site-packages (from quandl) (2.25.1)\n",
      "Requirement already satisfied: numpy>=1.8 in /home/ania/anaconda3/lib/python3.8/site-packages (from quandl) (1.20.2)\n",
      "Requirement already satisfied: python-dateutil in /home/ania/anaconda3/lib/python3.8/site-packages (from quandl) (2.8.1)\n",
      "Requirement already satisfied: inflection>=0.3.1 in /home/ania/anaconda3/lib/python3.8/site-packages (from quandl) (0.5.1)\n",
      "Requirement already satisfied: pandas>=0.14 in /home/ania/anaconda3/lib/python3.8/site-packages (from quandl) (1.2.4)\n",
      "Requirement already satisfied: pytz>=2017.3 in /home/ania/anaconda3/lib/python3.8/site-packages (from pandas>=0.14->quandl) (2021.1)\n",
      "Requirement already satisfied: idna<3,>=2.5 in /home/ania/anaconda3/lib/python3.8/site-packages (from requests>=2.7.0->quandl) (2.10)\n",
      "Requirement already satisfied: urllib3<1.27,>=1.21.1 in /home/ania/anaconda3/lib/python3.8/site-packages (from requests>=2.7.0->quandl) (1.24.3)\n",
      "Requirement already satisfied: certifi>=2017.4.17 in /home/ania/anaconda3/lib/python3.8/site-packages (from requests>=2.7.0->quandl) (2020.12.5)\n",
      "Requirement already satisfied: chardet<5,>=3.0.2 in /home/ania/anaconda3/lib/python3.8/site-packages (from requests>=2.7.0->quandl) (4.0.0)\n"
     ]
    }
   ],
   "source": [
    "!pip install quandl"
   ]
  },
  {
   "cell_type": "code",
   "execution_count": 2,
   "metadata": {
    "id": "CCrZUWp51Jn1"
   },
   "outputs": [],
   "source": [
    "import quandl\n",
    "import numpy as np\n",
    "import pandas as pd"
   ]
  },
  {
   "cell_type": "code",
   "execution_count": 3,
   "metadata": {
    "id": "BhrZ0h941Jn6"
   },
   "outputs": [],
   "source": [
    "# How bitcoin works: https://www.youtube.com/watch?v=bBC-nXj3Ng4\n",
    "quandl.ApiConfig.api_key = 'T3ox-1VP3bnyZ6h1dFpb'"
   ]
  },
  {
   "cell_type": "code",
   "execution_count": 4,
   "metadata": {
    "id": "g9KJPMym1Jn7"
   },
   "outputs": [],
   "source": [
    "# Market Price USD - Average USD market price across major bitcoin exchanges.\n",
    "btc_market_price = quandl.get(\"BCHAIN/MKPRU\")"
   ]
  },
  {
   "cell_type": "code",
   "execution_count": 5,
   "metadata": {
    "id": "3fT3RJBW1Jn7"
   },
   "outputs": [],
   "source": [
    "# Bitcoin Market Capitalization - The total USD value of bitcoin supply in circulation, as calculated by the daily average market price across major exchanges.\n",
    "btc_market_cap = quandl.get(\"BCHAIN/MKTCP\")"
   ]
  },
  {
   "cell_type": "code",
   "execution_count": 6,
   "metadata": {
    "id": "QcXvAs7H1Jn8"
   },
   "outputs": [],
   "source": [
    "# Total Bitcoins - The total number of bitcoins that have already been mined; in other words, the current supply of bitcoins on the network.\n",
    "btc_supply = quandl.get(\"BCHAIN/TOTBC\")"
   ]
  },
  {
   "cell_type": "code",
   "execution_count": 7,
   "metadata": {
    "id": "YfQ8Pw8a1Jn8"
   },
   "outputs": [],
   "source": [
    "# Blockchain Size - The total size of all block headers and transactions. Not including database indexes.\n",
    "btc_blockchain_size = quandl.get(\"BCHAIN/BLCHS\")"
   ]
  },
  {
   "cell_type": "code",
   "execution_count": 8,
   "metadata": {
    "id": "AJNJJJXe1Jn9"
   },
   "outputs": [],
   "source": [
    "# Bitcoin Number of Transactions - The number of daily confirmed Bitcoin transactions.\n",
    "btc_transactions_number = quandl.get(\"BCHAIN/NTRAN\")"
   ]
  },
  {
   "cell_type": "code",
   "execution_count": 9,
   "metadata": {
    "id": "7_RKsmUP1Jn9"
   },
   "outputs": [],
   "source": [
    "# Bitcoin Estimated Transaction Volume - The total estimated value of transactions on the Bitcoin blockchain (does not include coins returned to sender as change).\n",
    "btc_transaction_volume = quandl.get(\"BCHAIN/ETRAV\")"
   ]
  },
  {
   "cell_type": "code",
   "execution_count": 10,
   "metadata": {
    "id": "Z3KNTo121Jn-"
   },
   "outputs": [],
   "source": [
    "# Bitcoin Number of Unique Bitcoin Addresses Used - The total number of unique addresses used on the Bitcoin blockchain.\n",
    "btc_addresses_used = quandl.get(\"BCHAIN/NADDU\")"
   ]
  },
  {
   "cell_type": "code",
   "execution_count": 11,
   "metadata": {
    "id": "ertdjpJV1Jn-"
   },
   "outputs": [],
   "source": [
    "# Hash rate - Number of combinations guesses per second \n",
    "# https://www.youtube.com/watch?v=GgaXmhTC_C0\n",
    "btc_hash_rate = quandl.get(\"BCHAIN/HRATE\")"
   ]
  },
  {
   "cell_type": "code",
   "execution_count": 12,
   "metadata": {
    "id": "0W322DPe1Jn_"
   },
   "outputs": [],
   "source": [
    "# Mining difficulty - A relative measure of how difficult it is to find a new block.\n",
    "# https://www.youtube.com/watch?v=o1gOyhU6XEw\n",
    "btc_mining_difficulty = quandl.get(\"BCHAIN/DIFF\")"
   ]
  },
  {
   "cell_type": "code",
   "execution_count": 13,
   "metadata": {
    "id": "4bie0lu31Jn_"
   },
   "outputs": [],
   "source": [
    "# Miners Revenue - Total value of coinbase block rewards and transaction fees paid to miners.\n",
    "# https://www.youtube.com/watch?v=o1gOyhU6XEw\n",
    "btc_miners_revenue = quandl.get(\"BCHAIN/MIREV\")"
   ]
  },
  {
   "cell_type": "code",
   "execution_count": 14,
   "metadata": {
    "id": "TdI10f9P1Jn_"
   },
   "outputs": [],
   "source": [
    "# Mining Operating Margin - Data showing miners revenue minus estimated electricity and bandwidth costs.\n",
    "# btc_mining_operating_margin = quandl.get(\"BCHAIN/MIOPM\")\n",
    "# Only data to 2016..."
   ]
  },
  {
   "cell_type": "code",
   "execution_count": 15,
   "metadata": {
    "id": "a0Vn0asL1JoA"
   },
   "outputs": [],
   "source": [
    "# Bitcoin Cost Per Transaction - A chart showing miners revenue divided by the number of transactions.\n",
    "btc_cost_per_transaction = quandl.get(\"BCHAIN/CPTRA\")"
   ]
  },
  {
   "cell_type": "code",
   "execution_count": 16,
   "metadata": {
    "id": "751RFYx01JoA"
   },
   "outputs": [],
   "source": [
    "# Bitcoin Total Transaction Fees USD - The total value of all transaction fees paid to miners (not including the coinbase value of block rewards).\n",
    "btc_transaction_fees = quandl.get(\"BCHAIN/TRFUS\")"
   ]
  },
  {
   "cell_type": "code",
   "execution_count": 17,
   "metadata": {
    "id": "vHY68-m41JoA"
   },
   "outputs": [],
   "source": [
    "# Bitcoin Average Block Size - The average block size in MB.\n",
    "btc_avg_block_size = quandl.get(\"BCHAIN/AVBLS\")"
   ]
  },
  {
   "cell_type": "code",
   "execution_count": 18,
   "metadata": {
    "id": "-g53Ze8h1JoB"
   },
   "outputs": [],
   "source": [
    "# Bitcoin Number of Transaction per Block - The average number of transactions per block.\n",
    "btc_transactions_per_block = quandl.get(\"BCHAIN/NTRBL\")"
   ]
  },
  {
   "cell_type": "code",
   "execution_count": 19,
   "metadata": {
    "id": "E8GGaAEK1JoB"
   },
   "outputs": [],
   "source": [
    "# Bitcoin Exchange Trade Volume - The total USD value of trading volume on major bitcoin exchanges\n",
    "btc_transactions_per_block = quandl.get(\"BCHAIN/NTRBL\")"
   ]
  },
  {
   "cell_type": "code",
   "execution_count": 20,
   "metadata": {
    "colab": {
     "base_uri": "https://localhost:8080/"
    },
    "id": "slmlWafk1JoB",
    "outputId": "2e3a2cd5-2a38-44c2-ef41-4849ef2f3025"
   },
   "outputs": [
    {
     "data": {
      "text/plain": [
       "(4544,)"
      ]
     },
     "execution_count": 20,
     "metadata": {},
     "output_type": "execute_result"
    }
   ],
   "source": [
    "btc_cost_per_transaction.values[:,0].shape"
   ]
  },
  {
   "cell_type": "code",
   "execution_count": 21,
   "metadata": {
    "id": "aRHFpnKm1JoC"
   },
   "outputs": [],
   "source": [
    "btc_data = pd.DataFrame(\n",
    "    {\n",
    "        \"Market Price USD\": btc_market_price.values[:-2,0],\n",
    "        \"Market Cap\": btc_market_cap.values[:-1,0],\n",
    "        \"Bitcoin Supply\": btc_supply.values[:-1,0],\n",
    "        \"Blockchain Size\": btc_blockchain_size.values[:-1,0],\n",
    "        \"Daily Number of Transactions\": btc_transactions_number.values[:-1,0],\n",
    "        \"Estimated Transaction Volume\": btc_transaction_volume.values[:-1,0],\n",
    "        \"Unique Bitcoin Addresses Used\": btc_addresses_used.values[:-1,0],\n",
    "        \"Hash rate\": btc_hash_rate.values[:,0],\n",
    "        \"Mining difficulty\": btc_mining_difficulty.values[:-1,0],\n",
    "        \"Miners Revenue\": btc_miners_revenue.values[:-1,0],\n",
    "        \"Cost Per Transaction\": btc_cost_per_transaction.values[:-1,0],\n",
    "        \"Total Transaction Fees USD\": btc_transaction_fees.values[:-1,0],\n",
    "        \"Average Block Size\": btc_avg_block_size.values[:-1,0],\n",
    "        \"Number of Transaction per Block\": btc_transactions_per_block.values[:-1,0],\n",
    "        \"Exchange Trade Volume\": btc_transactions_per_block.values[:-1,0],\n",
    "    },\n",
    "    index=list(btc_market_cap.index[:-1])\n",
    ")"
   ]
  },
  {
   "cell_type": "code",
   "execution_count": 22,
   "metadata": {
    "colab": {
     "base_uri": "https://localhost:8080/",
     "height": 655
    },
    "id": "Gu1iuWQm1JoD",
    "outputId": "12477fe2-ce6e-4341-d299-2e0797f30fa8"
   },
   "outputs": [
    {
     "data": {
      "text/html": [
       "<div>\n",
       "<style scoped>\n",
       "    .dataframe tbody tr th:only-of-type {\n",
       "        vertical-align: middle;\n",
       "    }\n",
       "\n",
       "    .dataframe tbody tr th {\n",
       "        vertical-align: top;\n",
       "    }\n",
       "\n",
       "    .dataframe thead th {\n",
       "        text-align: right;\n",
       "    }\n",
       "</style>\n",
       "<table border=\"1\" class=\"dataframe\">\n",
       "  <thead>\n",
       "    <tr style=\"text-align: right;\">\n",
       "      <th></th>\n",
       "      <th>Market Price USD</th>\n",
       "      <th>Market Cap</th>\n",
       "      <th>Bitcoin Supply</th>\n",
       "      <th>Blockchain Size</th>\n",
       "      <th>Daily Number of Transactions</th>\n",
       "      <th>Estimated Transaction Volume</th>\n",
       "      <th>Unique Bitcoin Addresses Used</th>\n",
       "      <th>Hash rate</th>\n",
       "      <th>Mining difficulty</th>\n",
       "      <th>Miners Revenue</th>\n",
       "      <th>Cost Per Transaction</th>\n",
       "      <th>Total Transaction Fees USD</th>\n",
       "      <th>Average Block Size</th>\n",
       "      <th>Number of Transaction per Block</th>\n",
       "      <th>Exchange Trade Volume</th>\n",
       "    </tr>\n",
       "  </thead>\n",
       "  <tbody>\n",
       "    <tr>\n",
       "      <th>2009-01-02</th>\n",
       "      <td>0.00</td>\n",
       "      <td>0.000000e+00</td>\n",
       "      <td>50.00</td>\n",
       "      <td>0.000000</td>\n",
       "      <td>1.0</td>\n",
       "      <td>0.000000</td>\n",
       "      <td>1.0</td>\n",
       "      <td>0.000000e+00</td>\n",
       "      <td>1.000000e+00</td>\n",
       "      <td>0.000000e+00</td>\n",
       "      <td>0.000000</td>\n",
       "      <td>0.000000e+00</td>\n",
       "      <td>0.000272</td>\n",
       "      <td>1.000000</td>\n",
       "      <td>1.000000</td>\n",
       "    </tr>\n",
       "    <tr>\n",
       "      <th>2009-01-03</th>\n",
       "      <td>0.00</td>\n",
       "      <td>0.000000e+00</td>\n",
       "      <td>50.00</td>\n",
       "      <td>0.000000</td>\n",
       "      <td>0.0</td>\n",
       "      <td>0.000000</td>\n",
       "      <td>0.0</td>\n",
       "      <td>0.000000e+00</td>\n",
       "      <td>0.000000e+00</td>\n",
       "      <td>0.000000e+00</td>\n",
       "      <td>0.000000</td>\n",
       "      <td>0.000000e+00</td>\n",
       "      <td>0.000000</td>\n",
       "      <td>1.000000</td>\n",
       "      <td>1.000000</td>\n",
       "    </tr>\n",
       "    <tr>\n",
       "      <th>2009-01-04</th>\n",
       "      <td>0.00</td>\n",
       "      <td>0.000000e+00</td>\n",
       "      <td>50.00</td>\n",
       "      <td>0.000000</td>\n",
       "      <td>0.0</td>\n",
       "      <td>0.000000</td>\n",
       "      <td>0.0</td>\n",
       "      <td>0.000000e+00</td>\n",
       "      <td>0.000000e+00</td>\n",
       "      <td>0.000000e+00</td>\n",
       "      <td>0.000000</td>\n",
       "      <td>0.000000e+00</td>\n",
       "      <td>0.000000</td>\n",
       "      <td>1.000000</td>\n",
       "      <td>1.000000</td>\n",
       "    </tr>\n",
       "    <tr>\n",
       "      <th>2009-01-05</th>\n",
       "      <td>0.00</td>\n",
       "      <td>0.000000e+00</td>\n",
       "      <td>50.00</td>\n",
       "      <td>0.000000</td>\n",
       "      <td>0.0</td>\n",
       "      <td>0.000000</td>\n",
       "      <td>0.0</td>\n",
       "      <td>0.000000e+00</td>\n",
       "      <td>0.000000e+00</td>\n",
       "      <td>0.000000e+00</td>\n",
       "      <td>0.000000</td>\n",
       "      <td>0.000000e+00</td>\n",
       "      <td>0.000000</td>\n",
       "      <td>1.000000</td>\n",
       "      <td>1.000000</td>\n",
       "    </tr>\n",
       "    <tr>\n",
       "      <th>2009-01-06</th>\n",
       "      <td>0.00</td>\n",
       "      <td>0.000000e+00</td>\n",
       "      <td>50.00</td>\n",
       "      <td>0.000000</td>\n",
       "      <td>0.0</td>\n",
       "      <td>0.000000</td>\n",
       "      <td>0.0</td>\n",
       "      <td>0.000000e+00</td>\n",
       "      <td>0.000000e+00</td>\n",
       "      <td>0.000000e+00</td>\n",
       "      <td>0.000000</td>\n",
       "      <td>0.000000e+00</td>\n",
       "      <td>0.000000</td>\n",
       "      <td>1.000000</td>\n",
       "      <td>1.000000</td>\n",
       "    </tr>\n",
       "    <tr>\n",
       "      <th>...</th>\n",
       "      <td>...</td>\n",
       "      <td>...</td>\n",
       "      <td>...</td>\n",
       "      <td>...</td>\n",
       "      <td>...</td>\n",
       "      <td>...</td>\n",
       "      <td>...</td>\n",
       "      <td>...</td>\n",
       "      <td>...</td>\n",
       "      <td>...</td>\n",
       "      <td>...</td>\n",
       "      <td>...</td>\n",
       "      <td>...</td>\n",
       "      <td>...</td>\n",
       "      <td>...</td>\n",
       "    </tr>\n",
       "    <tr>\n",
       "      <th>2021-06-06</th>\n",
       "      <td>35530.38</td>\n",
       "      <td>6.718758e+11</td>\n",
       "      <td>18728506.25</td>\n",
       "      <td>348976.235834</td>\n",
       "      <td>185305.0</td>\n",
       "      <td>43096.631902</td>\n",
       "      <td>467665.0</td>\n",
       "      <td>1.391564e+08</td>\n",
       "      <td>2.104773e+13</td>\n",
       "      <td>3.455160e+07</td>\n",
       "      <td>186.457987</td>\n",
       "      <td>8.124856e+05</td>\n",
       "      <td>0.948719</td>\n",
       "      <td>1235.366667</td>\n",
       "      <td>1235.366667</td>\n",
       "    </tr>\n",
       "    <tr>\n",
       "      <th>2021-06-07</th>\n",
       "      <td>35816.17</td>\n",
       "      <td>6.369420e+11</td>\n",
       "      <td>18729456.25</td>\n",
       "      <td>349119.450745</td>\n",
       "      <td>235479.0</td>\n",
       "      <td>111301.180475</td>\n",
       "      <td>615279.0</td>\n",
       "      <td>1.558970e+08</td>\n",
       "      <td>2.104773e+13</td>\n",
       "      <td>3.206521e+07</td>\n",
       "      <td>132.764207</td>\n",
       "      <td>1.266621e+06</td>\n",
       "      <td>1.250725</td>\n",
       "      <td>1770.518797</td>\n",
       "      <td>1770.518797</td>\n",
       "    </tr>\n",
       "    <tr>\n",
       "      <th>2021-06-08</th>\n",
       "      <td>33514.87</td>\n",
       "      <td>6.130999e+11</td>\n",
       "      <td>18730331.25</td>\n",
       "      <td>349285.581629</td>\n",
       "      <td>246906.0</td>\n",
       "      <td>148507.314368</td>\n",
       "      <td>656191.0</td>\n",
       "      <td>1.318323e+08</td>\n",
       "      <td>2.104773e+13</td>\n",
       "      <td>3.168087e+07</td>\n",
       "      <td>128.311461</td>\n",
       "      <td>1.156940e+06</td>\n",
       "      <td>1.286349</td>\n",
       "      <td>1657.087248</td>\n",
       "      <td>1657.087248</td>\n",
       "    </tr>\n",
       "    <tr>\n",
       "      <th>2021-06-09</th>\n",
       "      <td>33450.19</td>\n",
       "      <td>6.689402e+11</td>\n",
       "      <td>18731000.00</td>\n",
       "      <td>349477.103190</td>\n",
       "      <td>210911.0</td>\n",
       "      <td>116051.363365</td>\n",
       "      <td>581779.0</td>\n",
       "      <td>1.234620e+08</td>\n",
       "      <td>2.104773e+13</td>\n",
       "      <td>2.908202e+07</td>\n",
       "      <td>134.170029</td>\n",
       "      <td>1.210337e+06</td>\n",
       "      <td>1.067569</td>\n",
       "      <td>1673.896825</td>\n",
       "      <td>1673.896825</td>\n",
       "    </tr>\n",
       "    <tr>\n",
       "      <th>2021-06-10</th>\n",
       "      <td>37338.36</td>\n",
       "      <td>6.761177e+11</td>\n",
       "      <td>18731875.00</td>\n",
       "      <td>349611.985192</td>\n",
       "      <td>252983.0</td>\n",
       "      <td>125318.068673</td>\n",
       "      <td>679752.0</td>\n",
       "      <td>1.098603e+08</td>\n",
       "      <td>2.104773e+13</td>\n",
       "      <td>2.899097e+07</td>\n",
       "      <td>114.596509</td>\n",
       "      <td>1.715939e+06</td>\n",
       "      <td>1.311452</td>\n",
       "      <td>2143.923729</td>\n",
       "      <td>2143.923729</td>\n",
       "    </tr>\n",
       "  </tbody>\n",
       "</table>\n",
       "<p>4543 rows × 15 columns</p>\n",
       "</div>"
      ],
      "text/plain": [
       "            Market Price USD    Market Cap  Bitcoin Supply  Blockchain Size  \\\n",
       "2009-01-02              0.00  0.000000e+00           50.00         0.000000   \n",
       "2009-01-03              0.00  0.000000e+00           50.00         0.000000   \n",
       "2009-01-04              0.00  0.000000e+00           50.00         0.000000   \n",
       "2009-01-05              0.00  0.000000e+00           50.00         0.000000   \n",
       "2009-01-06              0.00  0.000000e+00           50.00         0.000000   \n",
       "...                      ...           ...             ...              ...   \n",
       "2021-06-06          35530.38  6.718758e+11     18728506.25    348976.235834   \n",
       "2021-06-07          35816.17  6.369420e+11     18729456.25    349119.450745   \n",
       "2021-06-08          33514.87  6.130999e+11     18730331.25    349285.581629   \n",
       "2021-06-09          33450.19  6.689402e+11     18731000.00    349477.103190   \n",
       "2021-06-10          37338.36  6.761177e+11     18731875.00    349611.985192   \n",
       "\n",
       "            Daily Number of Transactions  Estimated Transaction Volume  \\\n",
       "2009-01-02                           1.0                      0.000000   \n",
       "2009-01-03                           0.0                      0.000000   \n",
       "2009-01-04                           0.0                      0.000000   \n",
       "2009-01-05                           0.0                      0.000000   \n",
       "2009-01-06                           0.0                      0.000000   \n",
       "...                                  ...                           ...   \n",
       "2021-06-06                      185305.0                  43096.631902   \n",
       "2021-06-07                      235479.0                 111301.180475   \n",
       "2021-06-08                      246906.0                 148507.314368   \n",
       "2021-06-09                      210911.0                 116051.363365   \n",
       "2021-06-10                      252983.0                 125318.068673   \n",
       "\n",
       "            Unique Bitcoin Addresses Used     Hash rate  Mining difficulty  \\\n",
       "2009-01-02                            1.0  0.000000e+00       1.000000e+00   \n",
       "2009-01-03                            0.0  0.000000e+00       0.000000e+00   \n",
       "2009-01-04                            0.0  0.000000e+00       0.000000e+00   \n",
       "2009-01-05                            0.0  0.000000e+00       0.000000e+00   \n",
       "2009-01-06                            0.0  0.000000e+00       0.000000e+00   \n",
       "...                                   ...           ...                ...   \n",
       "2021-06-06                       467665.0  1.391564e+08       2.104773e+13   \n",
       "2021-06-07                       615279.0  1.558970e+08       2.104773e+13   \n",
       "2021-06-08                       656191.0  1.318323e+08       2.104773e+13   \n",
       "2021-06-09                       581779.0  1.234620e+08       2.104773e+13   \n",
       "2021-06-10                       679752.0  1.098603e+08       2.104773e+13   \n",
       "\n",
       "            Miners Revenue  Cost Per Transaction  Total Transaction Fees USD  \\\n",
       "2009-01-02    0.000000e+00              0.000000                0.000000e+00   \n",
       "2009-01-03    0.000000e+00              0.000000                0.000000e+00   \n",
       "2009-01-04    0.000000e+00              0.000000                0.000000e+00   \n",
       "2009-01-05    0.000000e+00              0.000000                0.000000e+00   \n",
       "2009-01-06    0.000000e+00              0.000000                0.000000e+00   \n",
       "...                    ...                   ...                         ...   \n",
       "2021-06-06    3.455160e+07            186.457987                8.124856e+05   \n",
       "2021-06-07    3.206521e+07            132.764207                1.266621e+06   \n",
       "2021-06-08    3.168087e+07            128.311461                1.156940e+06   \n",
       "2021-06-09    2.908202e+07            134.170029                1.210337e+06   \n",
       "2021-06-10    2.899097e+07            114.596509                1.715939e+06   \n",
       "\n",
       "            Average Block Size  Number of Transaction per Block  \\\n",
       "2009-01-02            0.000272                         1.000000   \n",
       "2009-01-03            0.000000                         1.000000   \n",
       "2009-01-04            0.000000                         1.000000   \n",
       "2009-01-05            0.000000                         1.000000   \n",
       "2009-01-06            0.000000                         1.000000   \n",
       "...                        ...                              ...   \n",
       "2021-06-06            0.948719                      1235.366667   \n",
       "2021-06-07            1.250725                      1770.518797   \n",
       "2021-06-08            1.286349                      1657.087248   \n",
       "2021-06-09            1.067569                      1673.896825   \n",
       "2021-06-10            1.311452                      2143.923729   \n",
       "\n",
       "            Exchange Trade Volume  \n",
       "2009-01-02               1.000000  \n",
       "2009-01-03               1.000000  \n",
       "2009-01-04               1.000000  \n",
       "2009-01-05               1.000000  \n",
       "2009-01-06               1.000000  \n",
       "...                           ...  \n",
       "2021-06-06            1235.366667  \n",
       "2021-06-07            1770.518797  \n",
       "2021-06-08            1657.087248  \n",
       "2021-06-09            1673.896825  \n",
       "2021-06-10            2143.923729  \n",
       "\n",
       "[4543 rows x 15 columns]"
      ]
     },
     "execution_count": 22,
     "metadata": {},
     "output_type": "execute_result"
    }
   ],
   "source": [
    "btc_data"
   ]
  },
  {
   "cell_type": "code",
   "execution_count": 23,
   "metadata": {
    "colab": {
     "base_uri": "https://localhost:8080/",
     "height": 366
    },
    "id": "GR2I_0e61JoD",
    "outputId": "abf37673-de35-42e7-ca32-cf3bee7c3b56"
   },
   "outputs": [
    {
     "data": {
      "text/html": [
       "<div>\n",
       "<style scoped>\n",
       "    .dataframe tbody tr th:only-of-type {\n",
       "        vertical-align: middle;\n",
       "    }\n",
       "\n",
       "    .dataframe tbody tr th {\n",
       "        vertical-align: top;\n",
       "    }\n",
       "\n",
       "    .dataframe thead th {\n",
       "        text-align: right;\n",
       "    }\n",
       "</style>\n",
       "<table border=\"1\" class=\"dataframe\">\n",
       "  <thead>\n",
       "    <tr style=\"text-align: right;\">\n",
       "      <th></th>\n",
       "      <th>Market Price USD</th>\n",
       "      <th>Market Cap</th>\n",
       "      <th>Bitcoin Supply</th>\n",
       "      <th>Blockchain Size</th>\n",
       "      <th>Daily Number of Transactions</th>\n",
       "      <th>Estimated Transaction Volume</th>\n",
       "      <th>Unique Bitcoin Addresses Used</th>\n",
       "      <th>Hash rate</th>\n",
       "      <th>Mining difficulty</th>\n",
       "      <th>Miners Revenue</th>\n",
       "      <th>Cost Per Transaction</th>\n",
       "      <th>Total Transaction Fees USD</th>\n",
       "      <th>Average Block Size</th>\n",
       "      <th>Number of Transaction per Block</th>\n",
       "      <th>Exchange Trade Volume</th>\n",
       "    </tr>\n",
       "  </thead>\n",
       "  <tbody>\n",
       "    <tr>\n",
       "      <th>count</th>\n",
       "      <td>4543.000000</td>\n",
       "      <td>4.543000e+03</td>\n",
       "      <td>4.543000e+03</td>\n",
       "      <td>4543.000000</td>\n",
       "      <td>4543.000000</td>\n",
       "      <td>4.543000e+03</td>\n",
       "      <td>4.543000e+03</td>\n",
       "      <td>4.543000e+03</td>\n",
       "      <td>4.543000e+03</td>\n",
       "      <td>4.543000e+03</td>\n",
       "      <td>4543.000000</td>\n",
       "      <td>4.543000e+03</td>\n",
       "      <td>4543.000000</td>\n",
       "      <td>4543.000000</td>\n",
       "      <td>4543.000000</td>\n",
       "    </tr>\n",
       "    <tr>\n",
       "      <th>mean</th>\n",
       "      <td>4205.816445</td>\n",
       "      <td>7.569206e+10</td>\n",
       "      <td>1.225643e+07</td>\n",
       "      <td>88583.533701</td>\n",
       "      <td>142766.242131</td>\n",
       "      <td>1.717463e+05</td>\n",
       "      <td>2.760146e+05</td>\n",
       "      <td>2.410768e+07</td>\n",
       "      <td>3.322397e+12</td>\n",
       "      <td>6.376066e+06</td>\n",
       "      <td>27.179300</td>\n",
       "      <td>4.854025e+05</td>\n",
       "      <td>0.515317</td>\n",
       "      <td>961.415825</td>\n",
       "      <td>961.415825</td>\n",
       "    </tr>\n",
       "    <tr>\n",
       "      <th>std</th>\n",
       "      <td>9397.684616</td>\n",
       "      <td>1.749512e+11</td>\n",
       "      <td>5.658491e+06</td>\n",
       "      <td>105944.201842</td>\n",
       "      <td>127751.628504</td>\n",
       "      <td>2.175180e+05</td>\n",
       "      <td>2.561951e+05</td>\n",
       "      <td>4.444335e+07</td>\n",
       "      <td>6.153214e+12</td>\n",
       "      <td>1.100926e+07</td>\n",
       "      <td>37.735211</td>\n",
       "      <td>1.563209e+06</td>\n",
       "      <td>0.470841</td>\n",
       "      <td>871.807760</td>\n",
       "      <td>871.807760</td>\n",
       "    </tr>\n",
       "    <tr>\n",
       "      <th>min</th>\n",
       "      <td>0.000000</td>\n",
       "      <td>0.000000e+00</td>\n",
       "      <td>5.000000e+01</td>\n",
       "      <td>0.000000</td>\n",
       "      <td>0.000000</td>\n",
       "      <td>0.000000e+00</td>\n",
       "      <td>0.000000e+00</td>\n",
       "      <td>0.000000e+00</td>\n",
       "      <td>0.000000e+00</td>\n",
       "      <td>0.000000e+00</td>\n",
       "      <td>0.000000</td>\n",
       "      <td>0.000000e+00</td>\n",
       "      <td>0.000000</td>\n",
       "      <td>1.000000</td>\n",
       "      <td>1.000000</td>\n",
       "    </tr>\n",
       "    <tr>\n",
       "      <th>25%</th>\n",
       "      <td>6.605000</td>\n",
       "      <td>5.354379e+07</td>\n",
       "      <td>8.324675e+06</td>\n",
       "      <td>792.045167</td>\n",
       "      <td>8006.000000</td>\n",
       "      <td>7.652796e+04</td>\n",
       "      <td>1.691800e+04</td>\n",
       "      <td>1.161394e+01</td>\n",
       "      <td>1.591075e+06</td>\n",
       "      <td>4.808777e+04</td>\n",
       "      <td>4.155193</td>\n",
       "      <td>8.063444e+01</td>\n",
       "      <td>0.023441</td>\n",
       "      <td>53.159574</td>\n",
       "      <td>53.159574</td>\n",
       "    </tr>\n",
       "    <tr>\n",
       "      <th>50%</th>\n",
       "      <td>416.000000</td>\n",
       "      <td>5.790454e+09</td>\n",
       "      <td>1.397615e+07</td>\n",
       "      <td>31477.374339</td>\n",
       "      <td>99770.000000</td>\n",
       "      <td>1.472940e+05</td>\n",
       "      <td>2.114930e+05</td>\n",
       "      <td>3.359282e+05</td>\n",
       "      <td>4.742755e+10</td>\n",
       "      <td>1.382703e+06</td>\n",
       "      <td>9.905560</td>\n",
       "      <td>7.639405e+03</td>\n",
       "      <td>0.376293</td>\n",
       "      <td>692.000000</td>\n",
       "      <td>692.000000</td>\n",
       "    </tr>\n",
       "    <tr>\n",
       "      <th>75%</th>\n",
       "      <td>5981.322195</td>\n",
       "      <td>1.036305e+11</td>\n",
       "      <td>1.701096e+07</td>\n",
       "      <td>166557.387312</td>\n",
       "      <td>265715.000000</td>\n",
       "      <td>2.300959e+05</td>\n",
       "      <td>4.940235e+05</td>\n",
       "      <td>3.026814e+07</td>\n",
       "      <td>4.022059e+12</td>\n",
       "      <td>9.620210e+06</td>\n",
       "      <td>39.310677</td>\n",
       "      <td>2.065077e+05</td>\n",
       "      <td>0.965843</td>\n",
       "      <td>1825.916667</td>\n",
       "      <td>1825.916667</td>\n",
       "    </tr>\n",
       "    <tr>\n",
       "      <th>max</th>\n",
       "      <td>63554.440000</td>\n",
       "      <td>1.185967e+12</td>\n",
       "      <td>1.873188e+07</td>\n",
       "      <td>349611.985192</td>\n",
       "      <td>490644.000000</td>\n",
       "      <td>5.313161e+06</td>\n",
       "      <td>1.072861e+06</td>\n",
       "      <td>1.985140e+08</td>\n",
       "      <td>2.504649e+13</td>\n",
       "      <td>8.017224e+07</td>\n",
       "      <td>300.310549</td>\n",
       "      <td>2.128565e+07</td>\n",
       "      <td>1.499183</td>\n",
       "      <td>2762.540984</td>\n",
       "      <td>2762.540984</td>\n",
       "    </tr>\n",
       "  </tbody>\n",
       "</table>\n",
       "</div>"
      ],
      "text/plain": [
       "       Market Price USD    Market Cap  Bitcoin Supply  Blockchain Size  \\\n",
       "count       4543.000000  4.543000e+03    4.543000e+03      4543.000000   \n",
       "mean        4205.816445  7.569206e+10    1.225643e+07     88583.533701   \n",
       "std         9397.684616  1.749512e+11    5.658491e+06    105944.201842   \n",
       "min            0.000000  0.000000e+00    5.000000e+01         0.000000   \n",
       "25%            6.605000  5.354379e+07    8.324675e+06       792.045167   \n",
       "50%          416.000000  5.790454e+09    1.397615e+07     31477.374339   \n",
       "75%         5981.322195  1.036305e+11    1.701096e+07    166557.387312   \n",
       "max        63554.440000  1.185967e+12    1.873188e+07    349611.985192   \n",
       "\n",
       "       Daily Number of Transactions  Estimated Transaction Volume  \\\n",
       "count                   4543.000000                  4.543000e+03   \n",
       "mean                  142766.242131                  1.717463e+05   \n",
       "std                   127751.628504                  2.175180e+05   \n",
       "min                        0.000000                  0.000000e+00   \n",
       "25%                     8006.000000                  7.652796e+04   \n",
       "50%                    99770.000000                  1.472940e+05   \n",
       "75%                   265715.000000                  2.300959e+05   \n",
       "max                   490644.000000                  5.313161e+06   \n",
       "\n",
       "       Unique Bitcoin Addresses Used     Hash rate  Mining difficulty  \\\n",
       "count                   4.543000e+03  4.543000e+03       4.543000e+03   \n",
       "mean                    2.760146e+05  2.410768e+07       3.322397e+12   \n",
       "std                     2.561951e+05  4.444335e+07       6.153214e+12   \n",
       "min                     0.000000e+00  0.000000e+00       0.000000e+00   \n",
       "25%                     1.691800e+04  1.161394e+01       1.591075e+06   \n",
       "50%                     2.114930e+05  3.359282e+05       4.742755e+10   \n",
       "75%                     4.940235e+05  3.026814e+07       4.022059e+12   \n",
       "max                     1.072861e+06  1.985140e+08       2.504649e+13   \n",
       "\n",
       "       Miners Revenue  Cost Per Transaction  Total Transaction Fees USD  \\\n",
       "count    4.543000e+03           4543.000000                4.543000e+03   \n",
       "mean     6.376066e+06             27.179300                4.854025e+05   \n",
       "std      1.100926e+07             37.735211                1.563209e+06   \n",
       "min      0.000000e+00              0.000000                0.000000e+00   \n",
       "25%      4.808777e+04              4.155193                8.063444e+01   \n",
       "50%      1.382703e+06              9.905560                7.639405e+03   \n",
       "75%      9.620210e+06             39.310677                2.065077e+05   \n",
       "max      8.017224e+07            300.310549                2.128565e+07   \n",
       "\n",
       "       Average Block Size  Number of Transaction per Block  \\\n",
       "count         4543.000000                      4543.000000   \n",
       "mean             0.515317                       961.415825   \n",
       "std              0.470841                       871.807760   \n",
       "min              0.000000                         1.000000   \n",
       "25%              0.023441                        53.159574   \n",
       "50%              0.376293                       692.000000   \n",
       "75%              0.965843                      1825.916667   \n",
       "max              1.499183                      2762.540984   \n",
       "\n",
       "       Exchange Trade Volume  \n",
       "count            4543.000000  \n",
       "mean              961.415825  \n",
       "std               871.807760  \n",
       "min                 1.000000  \n",
       "25%                53.159574  \n",
       "50%               692.000000  \n",
       "75%              1825.916667  \n",
       "max              2762.540984  "
      ]
     },
     "execution_count": 23,
     "metadata": {},
     "output_type": "execute_result"
    }
   ],
   "source": [
    "btc_data.describe()"
   ]
  },
  {
   "cell_type": "code",
   "execution_count": 24,
   "metadata": {
    "colab": {
     "base_uri": "https://localhost:8080/"
    },
    "id": "3LOg2r8Y1JoD",
    "outputId": "07f5bf2f-b764-4b9c-9567-1cb253022085"
   },
   "outputs": [
    {
     "data": {
      "text/plain": [
       "(4543, 15)"
      ]
     },
     "execution_count": 24,
     "metadata": {},
     "output_type": "execute_result"
    }
   ],
   "source": [
    "btc_data.shape"
   ]
  },
  {
   "cell_type": "code",
   "execution_count": 25,
   "metadata": {
    "colab": {
     "base_uri": "https://localhost:8080/"
    },
    "id": "YPtR5TGU1JoE",
    "outputId": "98a155fb-ac48-4088-8e15-aef97df233b4"
   },
   "outputs": [
    {
     "name": "stdout",
     "output_type": "stream",
     "text": [
      "<class 'pandas.core.frame.DataFrame'>\n",
      "DatetimeIndex: 4543 entries, 2009-01-02 to 2021-06-10\n",
      "Data columns (total 15 columns):\n",
      " #   Column                           Non-Null Count  Dtype  \n",
      "---  ------                           --------------  -----  \n",
      " 0   Market Price USD                 4543 non-null   float64\n",
      " 1   Market Cap                       4543 non-null   float64\n",
      " 2   Bitcoin Supply                   4543 non-null   float64\n",
      " 3   Blockchain Size                  4543 non-null   float64\n",
      " 4   Daily Number of Transactions     4543 non-null   float64\n",
      " 5   Estimated Transaction Volume     4543 non-null   float64\n",
      " 6   Unique Bitcoin Addresses Used    4543 non-null   float64\n",
      " 7   Hash rate                        4543 non-null   float64\n",
      " 8   Mining difficulty                4543 non-null   float64\n",
      " 9   Miners Revenue                   4543 non-null   float64\n",
      " 10  Cost Per Transaction             4543 non-null   float64\n",
      " 11  Total Transaction Fees USD       4543 non-null   float64\n",
      " 12  Average Block Size               4543 non-null   float64\n",
      " 13  Number of Transaction per Block  4543 non-null   float64\n",
      " 14  Exchange Trade Volume            4543 non-null   float64\n",
      "dtypes: float64(15)\n",
      "memory usage: 567.9 KB\n"
     ]
    }
   ],
   "source": [
    "btc_data.info()"
   ]
  },
  {
   "cell_type": "code",
   "execution_count": 26,
   "metadata": {
    "colab": {
     "base_uri": "https://localhost:8080/",
     "height": 1000
    },
    "id": "fGpTpCPK1JoE",
    "outputId": "486bd1c1-6c00-4655-88b5-bb92f5cd8097"
   },
   "outputs": [
    {
     "data": {
      "text/plain": [
       "<AxesSubplot:>"
      ]
     },
     "execution_count": 26,
     "metadata": {},
     "output_type": "execute_result"
    },
    {
     "data": {
      "image/png": "[encoded data removed]",
      "text/plain": [
       "<Figure size 1440x1440 with 2 Axes>"
      ]
     },
     "metadata": {
      "needs_background": "light"
     },
     "output_type": "display_data"
    }
   ],
   "source": [
    "import seaborn as sns\n",
    "import matplotlib.pyplot as plt\n",
    "\n",
    "corr = btc_data.corr()\n",
    "plt.figure(figsize = (20,20))\n",
    "sns.heatmap(corr, annot = True)"
   ]
  },
  {
   "cell_type": "markdown",
   "metadata": {
    "id": "ZUY-t3zv1JoE"
   },
   "source": [
    "# Multivariate Linear Regression\n",
    "\n",
    "Article: https://towardsdatascience.com/multivariate-linear-regression-in-python-step-by-step-128c2b127171\n"
   ]
  },
  {
   "cell_type": "markdown",
   "metadata": {},
   "source": [
    "## Data preparation\n",
    "\n",
    "We will split data into Train and Test dataset. The test dataset will be last 30 days in order to see how well our model would predict recent values.\n",
    "\n",
    "The goal of this method would be to predict Market Price USD, Hash rate and Blockchain Size based on other parameters."
   ]
  },
  {
   "cell_type": "markdown",
   "metadata": {
    "id": "rWIUL5U21JoF"
   },
   "source": [
    "Add bias and set index to dates"
   ]
  },
  {
   "cell_type": "code",
   "execution_count": 27,
   "metadata": {
    "colab": {
     "base_uri": "https://localhost:8080/",
     "height": 338
    },
    "id": "AA4LxcJ31JoF",
    "outputId": "474d3732-b510-4c93-e2e9-faac34425537"
   },
   "outputs": [
    {
     "data": {
      "text/html": [
       "<div>\n",
       "<style scoped>\n",
       "    .dataframe tbody tr th:only-of-type {\n",
       "        vertical-align: middle;\n",
       "    }\n",
       "\n",
       "    .dataframe tbody tr th {\n",
       "        vertical-align: top;\n",
       "    }\n",
       "\n",
       "    .dataframe thead th {\n",
       "        text-align: right;\n",
       "    }\n",
       "</style>\n",
       "<table border=\"1\" class=\"dataframe\">\n",
       "  <thead>\n",
       "    <tr style=\"text-align: right;\">\n",
       "      <th></th>\n",
       "      <th>00</th>\n",
       "      <th>Market Price USD</th>\n",
       "      <th>Market Cap</th>\n",
       "      <th>Bitcoin Supply</th>\n",
       "      <th>Blockchain Size</th>\n",
       "      <th>Daily Number of Transactions</th>\n",
       "      <th>Estimated Transaction Volume</th>\n",
       "      <th>Unique Bitcoin Addresses Used</th>\n",
       "      <th>Hash rate</th>\n",
       "      <th>Mining difficulty</th>\n",
       "      <th>Miners Revenue</th>\n",
       "      <th>Cost Per Transaction</th>\n",
       "      <th>Total Transaction Fees USD</th>\n",
       "      <th>Average Block Size</th>\n",
       "      <th>Number of Transaction per Block</th>\n",
       "      <th>Exchange Trade Volume</th>\n",
       "    </tr>\n",
       "  </thead>\n",
       "  <tbody>\n",
       "    <tr>\n",
       "      <th>2009-01-02</th>\n",
       "      <td>1</td>\n",
       "      <td>0.0</td>\n",
       "      <td>0.0</td>\n",
       "      <td>50.0</td>\n",
       "      <td>0.0</td>\n",
       "      <td>1.0</td>\n",
       "      <td>0.0</td>\n",
       "      <td>1.0</td>\n",
       "      <td>0.0</td>\n",
       "      <td>1.0</td>\n",
       "      <td>0.0</td>\n",
       "      <td>0.0</td>\n",
       "      <td>0.0</td>\n",
       "      <td>0.000272</td>\n",
       "      <td>1.0</td>\n",
       "      <td>1.0</td>\n",
       "    </tr>\n",
       "    <tr>\n",
       "      <th>2009-01-03</th>\n",
       "      <td>1</td>\n",
       "      <td>0.0</td>\n",
       "      <td>0.0</td>\n",
       "      <td>50.0</td>\n",
       "      <td>0.0</td>\n",
       "      <td>0.0</td>\n",
       "      <td>0.0</td>\n",
       "      <td>0.0</td>\n",
       "      <td>0.0</td>\n",
       "      <td>0.0</td>\n",
       "      <td>0.0</td>\n",
       "      <td>0.0</td>\n",
       "      <td>0.0</td>\n",
       "      <td>0.000000</td>\n",
       "      <td>1.0</td>\n",
       "      <td>1.0</td>\n",
       "    </tr>\n",
       "    <tr>\n",
       "      <th>2009-01-04</th>\n",
       "      <td>1</td>\n",
       "      <td>0.0</td>\n",
       "      <td>0.0</td>\n",
       "      <td>50.0</td>\n",
       "      <td>0.0</td>\n",
       "      <td>0.0</td>\n",
       "      <td>0.0</td>\n",
       "      <td>0.0</td>\n",
       "      <td>0.0</td>\n",
       "      <td>0.0</td>\n",
       "      <td>0.0</td>\n",
       "      <td>0.0</td>\n",
       "      <td>0.0</td>\n",
       "      <td>0.000000</td>\n",
       "      <td>1.0</td>\n",
       "      <td>1.0</td>\n",
       "    </tr>\n",
       "    <tr>\n",
       "      <th>2009-01-05</th>\n",
       "      <td>1</td>\n",
       "      <td>0.0</td>\n",
       "      <td>0.0</td>\n",
       "      <td>50.0</td>\n",
       "      <td>0.0</td>\n",
       "      <td>0.0</td>\n",
       "      <td>0.0</td>\n",
       "      <td>0.0</td>\n",
       "      <td>0.0</td>\n",
       "      <td>0.0</td>\n",
       "      <td>0.0</td>\n",
       "      <td>0.0</td>\n",
       "      <td>0.0</td>\n",
       "      <td>0.000000</td>\n",
       "      <td>1.0</td>\n",
       "      <td>1.0</td>\n",
       "    </tr>\n",
       "    <tr>\n",
       "      <th>2009-01-06</th>\n",
       "      <td>1</td>\n",
       "      <td>0.0</td>\n",
       "      <td>0.0</td>\n",
       "      <td>50.0</td>\n",
       "      <td>0.0</td>\n",
       "      <td>0.0</td>\n",
       "      <td>0.0</td>\n",
       "      <td>0.0</td>\n",
       "      <td>0.0</td>\n",
       "      <td>0.0</td>\n",
       "      <td>0.0</td>\n",
       "      <td>0.0</td>\n",
       "      <td>0.0</td>\n",
       "      <td>0.000000</td>\n",
       "      <td>1.0</td>\n",
       "      <td>1.0</td>\n",
       "    </tr>\n",
       "  </tbody>\n",
       "</table>\n",
       "</div>"
      ],
      "text/plain": [
       "            00  Market Price USD  Market Cap  Bitcoin Supply  Blockchain Size  \\\n",
       "2009-01-02   1               0.0         0.0            50.0              0.0   \n",
       "2009-01-03   1               0.0         0.0            50.0              0.0   \n",
       "2009-01-04   1               0.0         0.0            50.0              0.0   \n",
       "2009-01-05   1               0.0         0.0            50.0              0.0   \n",
       "2009-01-06   1               0.0         0.0            50.0              0.0   \n",
       "\n",
       "            Daily Number of Transactions  Estimated Transaction Volume  \\\n",
       "2009-01-02                           1.0                           0.0   \n",
       "2009-01-03                           0.0                           0.0   \n",
       "2009-01-04                           0.0                           0.0   \n",
       "2009-01-05                           0.0                           0.0   \n",
       "2009-01-06                           0.0                           0.0   \n",
       "\n",
       "            Unique Bitcoin Addresses Used  Hash rate  Mining difficulty  \\\n",
       "2009-01-02                            1.0        0.0                1.0   \n",
       "2009-01-03                            0.0        0.0                0.0   \n",
       "2009-01-04                            0.0        0.0                0.0   \n",
       "2009-01-05                            0.0        0.0                0.0   \n",
       "2009-01-06                            0.0        0.0                0.0   \n",
       "\n",
       "            Miners Revenue  Cost Per Transaction  Total Transaction Fees USD  \\\n",
       "2009-01-02             0.0                   0.0                         0.0   \n",
       "2009-01-03             0.0                   0.0                         0.0   \n",
       "2009-01-04             0.0                   0.0                         0.0   \n",
       "2009-01-05             0.0                   0.0                         0.0   \n",
       "2009-01-06             0.0                   0.0                         0.0   \n",
       "\n",
       "            Average Block Size  Number of Transaction per Block  \\\n",
       "2009-01-02            0.000272                              1.0   \n",
       "2009-01-03            0.000000                              1.0   \n",
       "2009-01-04            0.000000                              1.0   \n",
       "2009-01-05            0.000000                              1.0   \n",
       "2009-01-06            0.000000                              1.0   \n",
       "\n",
       "            Exchange Trade Volume  \n",
       "2009-01-02                    1.0  \n",
       "2009-01-03                    1.0  \n",
       "2009-01-04                    1.0  \n",
       "2009-01-05                    1.0  \n",
       "2009-01-06                    1.0  "
      ]
     },
     "execution_count": 27,
     "metadata": {},
     "output_type": "execute_result"
    }
   ],
   "source": [
    "df = pd.concat([pd.Series(1, index=btc_data.index, name='00'), btc_data], axis=1)\n",
    "df.head()"
   ]
  },
  {
   "cell_type": "markdown",
   "metadata": {
    "id": "dX08OoUV1JoF"
   },
   "source": [
    "Set the independent X values and the dependent y for 3 predictions: market price, hash rate, blockchain size."
   ]
  },
  {
   "cell_type": "code",
   "execution_count": 28,
   "metadata": {
    "id": "Dg2KVDMf1JoF"
   },
   "outputs": [],
   "source": [
    "columns = [\"Market Price USD\", \"Hash rate\", \"Blockchain Size\"]\n",
    "X = df.drop(columns=columns)\n",
    "marketprice = df[\"Market Price USD\"]\n",
    "hashrate = df[\"Hash rate\"]\n",
    "blockchainsize = df[\"Blockchain Size\"]"
   ]
  },
  {
   "cell_type": "markdown",
   "metadata": {
    "id": "XtapPwNe1JoG"
   },
   "source": [
    "Normalize the input variables"
   ]
  },
  {
   "cell_type": "code",
   "execution_count": 29,
   "metadata": {
    "colab": {
     "base_uri": "https://localhost:8080/",
     "height": 635
    },
    "id": "ZR70XGB71JoG",
    "outputId": "b1a86d15-a119-4c40-b95c-a356ecf7bd27"
   },
   "outputs": [
    {
     "data": {
      "text/html": [
       "<div>\n",
       "<style scoped>\n",
       "    .dataframe tbody tr th:only-of-type {\n",
       "        vertical-align: middle;\n",
       "    }\n",
       "\n",
       "    .dataframe tbody tr th {\n",
       "        vertical-align: top;\n",
       "    }\n",
       "\n",
       "    .dataframe thead th {\n",
       "        text-align: right;\n",
       "    }\n",
       "</style>\n",
       "<table border=\"1\" class=\"dataframe\">\n",
       "  <thead>\n",
       "    <tr style=\"text-align: right;\">\n",
       "      <th></th>\n",
       "      <th>00</th>\n",
       "      <th>Market Cap</th>\n",
       "      <th>Bitcoin Supply</th>\n",
       "      <th>Daily Number of Transactions</th>\n",
       "      <th>Estimated Transaction Volume</th>\n",
       "      <th>Unique Bitcoin Addresses Used</th>\n",
       "      <th>Mining difficulty</th>\n",
       "      <th>Miners Revenue</th>\n",
       "      <th>Cost Per Transaction</th>\n",
       "      <th>Total Transaction Fees USD</th>\n",
       "      <th>Average Block Size</th>\n",
       "      <th>Number of Transaction per Block</th>\n",
       "      <th>Exchange Trade Volume</th>\n",
       "    </tr>\n",
       "  </thead>\n",
       "  <tbody>\n",
       "    <tr>\n",
       "      <th>2009-01-02</th>\n",
       "      <td>1.0</td>\n",
       "      <td>0.000000</td>\n",
       "      <td>0.000003</td>\n",
       "      <td>0.000002</td>\n",
       "      <td>0.000000</td>\n",
       "      <td>9.320872e-07</td>\n",
       "      <td>3.992576e-14</td>\n",
       "      <td>0.000000</td>\n",
       "      <td>0.000000</td>\n",
       "      <td>0.000000</td>\n",
       "      <td>0.000181</td>\n",
       "      <td>0.000362</td>\n",
       "      <td>0.000362</td>\n",
       "    </tr>\n",
       "    <tr>\n",
       "      <th>2009-01-03</th>\n",
       "      <td>1.0</td>\n",
       "      <td>0.000000</td>\n",
       "      <td>0.000003</td>\n",
       "      <td>0.000000</td>\n",
       "      <td>0.000000</td>\n",
       "      <td>0.000000e+00</td>\n",
       "      <td>0.000000e+00</td>\n",
       "      <td>0.000000</td>\n",
       "      <td>0.000000</td>\n",
       "      <td>0.000000</td>\n",
       "      <td>0.000000</td>\n",
       "      <td>0.000362</td>\n",
       "      <td>0.000362</td>\n",
       "    </tr>\n",
       "    <tr>\n",
       "      <th>2009-01-04</th>\n",
       "      <td>1.0</td>\n",
       "      <td>0.000000</td>\n",
       "      <td>0.000003</td>\n",
       "      <td>0.000000</td>\n",
       "      <td>0.000000</td>\n",
       "      <td>0.000000e+00</td>\n",
       "      <td>0.000000e+00</td>\n",
       "      <td>0.000000</td>\n",
       "      <td>0.000000</td>\n",
       "      <td>0.000000</td>\n",
       "      <td>0.000000</td>\n",
       "      <td>0.000362</td>\n",
       "      <td>0.000362</td>\n",
       "    </tr>\n",
       "    <tr>\n",
       "      <th>2009-01-05</th>\n",
       "      <td>1.0</td>\n",
       "      <td>0.000000</td>\n",
       "      <td>0.000003</td>\n",
       "      <td>0.000000</td>\n",
       "      <td>0.000000</td>\n",
       "      <td>0.000000e+00</td>\n",
       "      <td>0.000000e+00</td>\n",
       "      <td>0.000000</td>\n",
       "      <td>0.000000</td>\n",
       "      <td>0.000000</td>\n",
       "      <td>0.000000</td>\n",
       "      <td>0.000362</td>\n",
       "      <td>0.000362</td>\n",
       "    </tr>\n",
       "    <tr>\n",
       "      <th>2009-01-06</th>\n",
       "      <td>1.0</td>\n",
       "      <td>0.000000</td>\n",
       "      <td>0.000003</td>\n",
       "      <td>0.000000</td>\n",
       "      <td>0.000000</td>\n",
       "      <td>0.000000e+00</td>\n",
       "      <td>0.000000e+00</td>\n",
       "      <td>0.000000</td>\n",
       "      <td>0.000000</td>\n",
       "      <td>0.000000</td>\n",
       "      <td>0.000000</td>\n",
       "      <td>0.000362</td>\n",
       "      <td>0.000362</td>\n",
       "    </tr>\n",
       "    <tr>\n",
       "      <th>...</th>\n",
       "      <td>...</td>\n",
       "      <td>...</td>\n",
       "      <td>...</td>\n",
       "      <td>...</td>\n",
       "      <td>...</td>\n",
       "      <td>...</td>\n",
       "      <td>...</td>\n",
       "      <td>...</td>\n",
       "      <td>...</td>\n",
       "      <td>...</td>\n",
       "      <td>...</td>\n",
       "      <td>...</td>\n",
       "      <td>...</td>\n",
       "    </tr>\n",
       "    <tr>\n",
       "      <th>2021-06-06</th>\n",
       "      <td>1.0</td>\n",
       "      <td>0.566521</td>\n",
       "      <td>0.999820</td>\n",
       "      <td>0.377677</td>\n",
       "      <td>0.008111</td>\n",
       "      <td>4.359046e-01</td>\n",
       "      <td>8.403466e-01</td>\n",
       "      <td>0.430967</td>\n",
       "      <td>0.620884</td>\n",
       "      <td>0.038171</td>\n",
       "      <td>0.632824</td>\n",
       "      <td>0.447185</td>\n",
       "      <td>0.447185</td>\n",
       "    </tr>\n",
       "    <tr>\n",
       "      <th>2021-06-07</th>\n",
       "      <td>1.0</td>\n",
       "      <td>0.537065</td>\n",
       "      <td>0.999871</td>\n",
       "      <td>0.479939</td>\n",
       "      <td>0.020948</td>\n",
       "      <td>5.734937e-01</td>\n",
       "      <td>8.403466e-01</td>\n",
       "      <td>0.399954</td>\n",
       "      <td>0.442090</td>\n",
       "      <td>0.059506</td>\n",
       "      <td>0.834271</td>\n",
       "      <td>0.640902</td>\n",
       "      <td>0.640902</td>\n",
       "    </tr>\n",
       "    <tr>\n",
       "      <th>2021-06-08</th>\n",
       "      <td>1.0</td>\n",
       "      <td>0.516962</td>\n",
       "      <td>0.999918</td>\n",
       "      <td>0.503228</td>\n",
       "      <td>0.027951</td>\n",
       "      <td>6.116272e-01</td>\n",
       "      <td>8.403466e-01</td>\n",
       "      <td>0.395160</td>\n",
       "      <td>0.427263</td>\n",
       "      <td>0.054353</td>\n",
       "      <td>0.858033</td>\n",
       "      <td>0.599842</td>\n",
       "      <td>0.599842</td>\n",
       "    </tr>\n",
       "    <tr>\n",
       "      <th>2021-06-09</th>\n",
       "      <td>1.0</td>\n",
       "      <td>0.564046</td>\n",
       "      <td>0.999953</td>\n",
       "      <td>0.429866</td>\n",
       "      <td>0.021842</td>\n",
       "      <td>5.422688e-01</td>\n",
       "      <td>8.403466e-01</td>\n",
       "      <td>0.362744</td>\n",
       "      <td>0.446771</td>\n",
       "      <td>0.056862</td>\n",
       "      <td>0.712101</td>\n",
       "      <td>0.605927</td>\n",
       "      <td>0.605927</td>\n",
       "    </tr>\n",
       "    <tr>\n",
       "      <th>2021-06-10</th>\n",
       "      <td>1.0</td>\n",
       "      <td>0.570098</td>\n",
       "      <td>1.000000</td>\n",
       "      <td>0.515614</td>\n",
       "      <td>0.023586</td>\n",
       "      <td>6.335881e-01</td>\n",
       "      <td>8.403466e-01</td>\n",
       "      <td>0.361609</td>\n",
       "      <td>0.381593</td>\n",
       "      <td>0.080615</td>\n",
       "      <td>0.874778</td>\n",
       "      <td>0.776069</td>\n",
       "      <td>0.776069</td>\n",
       "    </tr>\n",
       "  </tbody>\n",
       "</table>\n",
       "<p>4543 rows × 13 columns</p>\n",
       "</div>"
      ],
      "text/plain": [
       "             00  Market Cap  Bitcoin Supply  Daily Number of Transactions  \\\n",
       "2009-01-02  1.0    0.000000        0.000003                      0.000002   \n",
       "2009-01-03  1.0    0.000000        0.000003                      0.000000   \n",
       "2009-01-04  1.0    0.000000        0.000003                      0.000000   \n",
       "2009-01-05  1.0    0.000000        0.000003                      0.000000   \n",
       "2009-01-06  1.0    0.000000        0.000003                      0.000000   \n",
       "...         ...         ...             ...                           ...   \n",
       "2021-06-06  1.0    0.566521        0.999820                      0.377677   \n",
       "2021-06-07  1.0    0.537065        0.999871                      0.479939   \n",
       "2021-06-08  1.0    0.516962        0.999918                      0.503228   \n",
       "2021-06-09  1.0    0.564046        0.999953                      0.429866   \n",
       "2021-06-10  1.0    0.570098        1.000000                      0.515614   \n",
       "\n",
       "            Estimated Transaction Volume  Unique Bitcoin Addresses Used  \\\n",
       "2009-01-02                      0.000000                   9.320872e-07   \n",
       "2009-01-03                      0.000000                   0.000000e+00   \n",
       "2009-01-04                      0.000000                   0.000000e+00   \n",
       "2009-01-05                      0.000000                   0.000000e+00   \n",
       "2009-01-06                      0.000000                   0.000000e+00   \n",
       "...                                  ...                            ...   \n",
       "2021-06-06                      0.008111                   4.359046e-01   \n",
       "2021-06-07                      0.020948                   5.734937e-01   \n",
       "2021-06-08                      0.027951                   6.116272e-01   \n",
       "2021-06-09                      0.021842                   5.422688e-01   \n",
       "2021-06-10                      0.023586                   6.335881e-01   \n",
       "\n",
       "            Mining difficulty  Miners Revenue  Cost Per Transaction  \\\n",
       "2009-01-02       3.992576e-14        0.000000              0.000000   \n",
       "2009-01-03       0.000000e+00        0.000000              0.000000   \n",
       "2009-01-04       0.000000e+00        0.000000              0.000000   \n",
       "2009-01-05       0.000000e+00        0.000000              0.000000   \n",
       "2009-01-06       0.000000e+00        0.000000              0.000000   \n",
       "...                       ...             ...                   ...   \n",
       "2021-06-06       8.403466e-01        0.430967              0.620884   \n",
       "2021-06-07       8.403466e-01        0.399954              0.442090   \n",
       "2021-06-08       8.403466e-01        0.395160              0.427263   \n",
       "2021-06-09       8.403466e-01        0.362744              0.446771   \n",
       "2021-06-10       8.403466e-01        0.361609              0.381593   \n",
       "\n",
       "            Total Transaction Fees USD  Average Block Size  \\\n",
       "2009-01-02                    0.000000            0.000181   \n",
       "2009-01-03                    0.000000            0.000000   \n",
       "2009-01-04                    0.000000            0.000000   \n",
       "2009-01-05                    0.000000            0.000000   \n",
       "2009-01-06                    0.000000            0.000000   \n",
       "...                                ...                 ...   \n",
       "2021-06-06                    0.038171            0.632824   \n",
       "2021-06-07                    0.059506            0.834271   \n",
       "2021-06-08                    0.054353            0.858033   \n",
       "2021-06-09                    0.056862            0.712101   \n",
       "2021-06-10                    0.080615            0.874778   \n",
       "\n",
       "            Number of Transaction per Block  Exchange Trade Volume  \n",
       "2009-01-02                         0.000362               0.000362  \n",
       "2009-01-03                         0.000362               0.000362  \n",
       "2009-01-04                         0.000362               0.000362  \n",
       "2009-01-05                         0.000362               0.000362  \n",
       "2009-01-06                         0.000362               0.000362  \n",
       "...                                     ...                    ...  \n",
       "2021-06-06                         0.447185               0.447185  \n",
       "2021-06-07                         0.640902               0.640902  \n",
       "2021-06-08                         0.599842               0.599842  \n",
       "2021-06-09                         0.605927               0.605927  \n",
       "2021-06-10                         0.776069               0.776069  \n",
       "\n",
       "[4543 rows x 13 columns]"
      ]
     },
     "execution_count": 29,
     "metadata": {},
     "output_type": "execute_result"
    }
   ],
   "source": [
    "for column in X.columns:\n",
    "    X[column] = X[column]/np.max(X[column])\n",
    "X"
   ]
  },
  {
   "cell_type": "markdown",
   "metadata": {},
   "source": [
    "Separate for training and test set the independent X values and the dependent y for 3 predictions: market price, hash rate, blockchain size. "
   ]
  },
  {
   "cell_type": "code",
   "execution_count": 30,
   "metadata": {},
   "outputs": [],
   "source": [
    "test_len = 30\n",
    "\n",
    "train_X = X.iloc[:-test_len]\n",
    "test_X = X.iloc[-test_len:]\n",
    "\n",
    "train_marketprice = marketprice.iloc[:-test_len]\n",
    "test_marketprice = marketprice.iloc[-test_len:]\n",
    "train_hashrate = hashrate.iloc[:-test_len]\n",
    "test_hashrate = hashrate.iloc[-test_len:]    \n",
    "train_blockchainsize = blockchainsize.iloc[:-test_len]\n",
    "test_blockchainsize = blockchainsize.iloc[-test_len:]    "
   ]
  },
  {
   "cell_type": "markdown",
   "metadata": {},
   "source": [
    "## Training vs Test plot of target value"
   ]
  },
  {
   "cell_type": "code",
   "execution_count": 31,
   "metadata": {},
   "outputs": [
    {
     "data": {
      "image/png": "[encoded data removed]",
      "text/plain": [
       "<Figure size 936x504 with 3 Axes>"
      ]
     },
     "metadata": {
      "needs_background": "light"
     },
     "output_type": "display_data"
    }
   ],
   "source": [
    "fig, ax = plt.subplots(3, figsize=(13, 7))\n",
    "fig.suptitle('Training vs Test plot of target value')\n",
    "\n",
    "columns = [\"Market Price USD\", \"Hash rate\", \"Blockchain Size\"]\n",
    "training_y = [train_marketprice, train_hashrate, train_blockchainsize]\n",
    "test_y = [test_marketprice, test_hashrate, test_blockchainsize]\n",
    "\n",
    "for idx, (column, train_y,test_y) in enumerate(zip(columns, training_y, test_y)):\n",
    "    ax[idx].plot(train_y, label=\"train\")\n",
    "    ax[idx].plot(test_y, label=\"test\")\n",
    "    ax[idx].set_ylabel(column, fontsize=14)\n",
    "    ax[idx].set_title(column, fontsize=16)\n",
    "    ax[idx].legend(loc='best', fontsize=16)"
   ]
  },
  {
   "cell_type": "markdown",
   "metadata": {
    "id": "z8fsl2Th1JoG"
   },
   "source": [
    "Initiate theta values"
   ]
  },
  {
   "cell_type": "code",
   "execution_count": 32,
   "metadata": {
    "colab": {
     "base_uri": "https://localhost:8080/"
    },
    "id": "CZBnEdR_1JoH",
    "outputId": "65ed95be-3591-413f-c61e-74ce80d142af"
   },
   "outputs": [
    {
     "data": {
      "text/plain": [
       "array([0, 0, 0, 0, 0, 0, 0, 0, 0, 0, 0, 0, 0])"
      ]
     },
     "execution_count": 32,
     "metadata": {},
     "output_type": "execute_result"
    }
   ],
   "source": [
    "def initialize_theta():\n",
    "    theta = np.array([0]*len(train_X.columns))\n",
    "    return theta\n",
    "    \n",
    "theta = initialize_theta()\n",
    "theta"
   ]
  },
  {
   "cell_type": "markdown",
   "metadata": {
    "id": "vIb378KY1JoI"
   },
   "source": [
    "Define the hypothesis function"
   ]
  },
  {
   "cell_type": "code",
   "execution_count": 33,
   "metadata": {
    "id": "5z-vCnTD1JoI"
   },
   "outputs": [],
   "source": [
    "def hypothesis(theta, train_X):\n",
    "    return theta*train_X"
   ]
  },
  {
   "cell_type": "markdown",
   "metadata": {
    "id": "rSDoi_w11JoI"
   },
   "source": [
    "Define the cost function"
   ]
  },
  {
   "cell_type": "code",
   "execution_count": 34,
   "metadata": {
    "id": "2E9fP8V91JoI"
   },
   "outputs": [],
   "source": [
    "def computeCost(train_X, train_y, theta):\n",
    "    y1 = hypothesis(theta, train_X)\n",
    "    y1 = np.sum(y1, axis=1)\n",
    "    return sum(np.sqrt((y1-train_y)**2))/(2*47)"
   ]
  },
  {
   "cell_type": "markdown",
   "metadata": {
    "id": "SEwWyN9l1JoJ"
   },
   "source": [
    "Write the function for the gradient descent. This function will take X, y, theta, learning rate (alpha), and epochs (iterations) as input. \n",
    "\n",
    "Target: Cost function reaches minimum."
   ]
  },
  {
   "cell_type": "code",
   "execution_count": 35,
   "metadata": {
    "id": "D2J3IT411JoJ"
   },
   "outputs": [],
   "source": [
    "def gradientDescent(train_X, train_y, theta, alpha, i):\n",
    "    J = []  #cost function in each iterations\n",
    "    k = 0\n",
    "    while k < i:        \n",
    "        y1 = hypothesis(theta, train_X)\n",
    "        y1 = np.sum(y1, axis=1)\n",
    "        for c in range(0, len(train_X.columns)):\n",
    "            theta[c] = theta[c] - alpha*(sum((y1-train_y)*train_X.iloc[:,c])/len(train_X))\n",
    "        j = computeCost(train_X, train_y, theta)\n",
    "        J.append(j)\n",
    "        k += 1\n",
    "    return J, j, theta"
   ]
  },
  {
   "cell_type": "markdown",
   "metadata": {},
   "source": [
    "### Train & predict for Market Price USD"
   ]
  },
  {
   "cell_type": "markdown",
   "metadata": {
    "id": "mVx1UZPG1JoJ"
   },
   "source": [
    "Use the gradient descent function to get the final cost, the list of cost in each iteration, and the optimized parameters theta."
   ]
  },
  {
   "cell_type": "code",
   "execution_count": 36,
   "metadata": {
    "id": "aw9aaBGI1JoJ"
   },
   "outputs": [],
   "source": [
    "J_marketprice, j_marketprice, theta_marketprice = gradientDescent(train_X, train_marketprice, theta, 0.05, 5000)"
   ]
  },
  {
   "cell_type": "markdown",
   "metadata": {
    "id": "HPpfHxm91JoK"
   },
   "source": [
    "Predict the output using the optimized theta"
   ]
  },
  {
   "cell_type": "code",
   "execution_count": 37,
   "metadata": {
    "id": "gTrhCsc-1JoK"
   },
   "outputs": [],
   "source": [
    "y_hat_marketprice = hypothesis(theta_marketprice, test_X)\n",
    "y_hat_marketprice = np.sum(y_hat_marketprice, axis=1)"
   ]
  },
  {
   "cell_type": "markdown",
   "metadata": {},
   "source": [
    "Initialize back theta values for next prediction"
   ]
  },
  {
   "cell_type": "code",
   "execution_count": 38,
   "metadata": {},
   "outputs": [
    {
     "data": {
      "text/plain": [
       "array([0, 0, 0, 0, 0, 0, 0, 0, 0, 0, 0, 0, 0])"
      ]
     },
     "execution_count": 38,
     "metadata": {},
     "output_type": "execute_result"
    }
   ],
   "source": [
    "theta = initialize_theta()\n",
    "theta"
   ]
  },
  {
   "cell_type": "markdown",
   "metadata": {},
   "source": [
    "### Train & predict for Hash Rate"
   ]
  },
  {
   "cell_type": "code",
   "execution_count": 39,
   "metadata": {},
   "outputs": [],
   "source": [
    "J_hashrate, j_hashrate, theta_hashrate = gradientDescent(train_X, train_hashrate, theta, 0.05, 5000)"
   ]
  },
  {
   "cell_type": "code",
   "execution_count": 40,
   "metadata": {},
   "outputs": [],
   "source": [
    "y_hat_hashrate = hypothesis(theta_hashrate, test_X)\n",
    "y_hat_hashrate = np.sum(y_hat_hashrate, axis=1)"
   ]
  },
  {
   "cell_type": "code",
   "execution_count": 41,
   "metadata": {},
   "outputs": [
    {
     "data": {
      "text/plain": [
       "array([0, 0, 0, 0, 0, 0, 0, 0, 0, 0, 0, 0, 0])"
      ]
     },
     "execution_count": 41,
     "metadata": {},
     "output_type": "execute_result"
    }
   ],
   "source": [
    "theta = initialize_theta()\n",
    "theta"
   ]
  },
  {
   "cell_type": "markdown",
   "metadata": {},
   "source": [
    "### Train & predict for Blockchain Size"
   ]
  },
  {
   "cell_type": "code",
   "execution_count": 42,
   "metadata": {},
   "outputs": [],
   "source": [
    "J_blockchainsize, j_blockchainsize, theta_blockchainsize = gradientDescent(train_X, train_blockchainsize, theta, 0.05, 5000)"
   ]
  },
  {
   "cell_type": "code",
   "execution_count": 43,
   "metadata": {},
   "outputs": [],
   "source": [
    "y_hat_blockchainsize = hypothesis(theta_blockchainsize, test_X)\n",
    "y_hat_blockchainsize = np.sum(y_hat_blockchainsize, axis=1)"
   ]
  },
  {
   "cell_type": "code",
   "execution_count": 44,
   "metadata": {},
   "outputs": [
    {
     "data": {
      "text/plain": [
       "array([0, 0, 0, 0, 0, 0, 0, 0, 0, 0, 0, 0, 0])"
      ]
     },
     "execution_count": 44,
     "metadata": {},
     "output_type": "execute_result"
    }
   ],
   "source": [
    "theta = initialize_theta()\n",
    "theta"
   ]
  },
  {
   "cell_type": "markdown",
   "metadata": {},
   "source": [
    "## Predictions plot"
   ]
  },
  {
   "cell_type": "code",
   "execution_count": 45,
   "metadata": {
    "colab": {
     "base_uri": "https://localhost:8080/",
     "height": 265
    },
    "id": "Kex3aS6Q1JoK",
    "outputId": "cf659f06-faf0-4c6a-ee94-127bdcad09bd"
   },
   "outputs": [
    {
     "data": {
      "image/png": "[encoded data removed]",
      "text/plain": [
       "<Figure size 936x504 with 3 Axes>"
      ]
     },
     "metadata": {
      "needs_background": "light"
     },
     "output_type": "display_data"
    }
   ],
   "source": [
    "predicted_sets = [y_hat_marketprice, y_hat_hashrate, y_hat_blockchainsize]\n",
    "test_sets = [test_marketprice, test_hashrate, test_blockchainsize]\n",
    "column_names = [\"Market Price USD\", \"Hash rate\", \"Blockchain Size\"]\n",
    "\n",
    "fig, ax = plt.subplots(1, 3, figsize=(13, 7))\n",
    "fig.suptitle('Predictions')\n",
    "\n",
    "for idx, (column_name, predicted_set, test_set) in enumerate(zip(column_names, predicted_sets, test_sets)):\n",
    "    ax[idx].plot(test_set, color='blue', label=\"Real\")         \n",
    "    ax[idx].plot(predicted_set, color='red', label=\"Predicted\")\n",
    "    ax[idx].set_title(column_name, fontsize=14)\n",
    "    ax[idx].legend()\n",
    "\n",
    "plt.show()"
   ]
  },
  {
   "cell_type": "markdown",
   "metadata": {
    "id": "uhYbSuBE1JoK"
   },
   "source": [
    "Plot the cost of each iteration to see the behavior"
   ]
  },
  {
   "cell_type": "code",
   "execution_count": 46,
   "metadata": {
    "colab": {
     "base_uri": "https://localhost:8080/",
     "height": 592
    },
    "id": "FRzvUFHN1JoL",
    "outputId": "629cef4f-899a-4f41-cf32-02ebaa3fcf08"
   },
   "outputs": [
    {
     "data": {
      "image/png": "[encoded data removed]",
      "text/plain": [
       "<Figure size 936x504 with 3 Axes>"
      ]
     },
     "metadata": {
      "needs_background": "light"
     },
     "output_type": "display_data"
    }
   ],
   "source": [
    "J = [J_marketprice, J_hashrate, J_blockchainsize]\n",
    "\n",
    "fig, ax = plt.subplots(1, 3, figsize=(13, 7))\n",
    "fig.suptitle('Costs')\n",
    "\n",
    "for idx, j, column_name in zip([0, 1, 2], J, column_names):\n",
    "    ax[idx].scatter(x=list(range(0, 5000)), y=j, label=\"Cost of each iteration\")\n",
    "    ax[idx].set_title(column_name, fontsize=14)\n",
    "    ax[idx].legend()\n",
    "\n",
    "plt.show()"
   ]
  },
  {
   "cell_type": "markdown",
   "metadata": {
    "id": "h5Avm4cM3MCp"
   },
   "source": [
    "# Multivariate single step MLP prediction\n",
    "Based on Multilayer Perceptron Models for Time Series Forecasting [article](https://machinelearningmastery.com/how-to-develop-multilayer-perceptron-models-for-time-series-forecasting/). \n",
    "\n"
   ]
  },
  {
   "cell_type": "markdown",
   "metadata": {
    "id": "JzIqvatO3wQl"
   },
   "source": [
    "## Data preparation\n",
    "We will split data into 3 datasets - training, validating and test. The test dataset will be last 30 days in order to see how well our model would predict recent values. Training and validating dataset will be the rest of data, shufled and splitted randomly.\n",
    "\n",
    "The goal of this method would be to predict *Market Price USD*, *Hash rate* and *Blockchain Size* based on other parameters.\n",
    "\n",
    "[$x_{1}$, $x_{2}$...$x_{12}$] -> [$x_{price}$, $x_{hash}$, $x_{blockchain}$] "
   ]
  },
  {
   "cell_type": "code",
   "execution_count": 47,
   "metadata": {
    "colab": {
     "base_uri": "https://localhost:8080/"
    },
    "id": "3kEm2x3k5XPB",
    "outputId": "93adb428-6077-413e-bef6-e25c6626060b"
   },
   "outputs": [
    {
     "name": "stdout",
     "output_type": "stream",
     "text": [
      "X train: (4061, 12)\n",
      "y train: (4061, 3)\n",
      "X val: (452, 12)\n",
      "y val: (452, 3)\n",
      "X test: (30, 12)\n",
      "y test: (30, 3)\n"
     ]
    }
   ],
   "source": [
    "from sklearn.model_selection import train_test_split\n",
    "\n",
    "df = btc_data.copy()\n",
    "\n",
    "# Split data into X, y\n",
    "columns = [\"Market Price USD\", \"Hash rate\", \"Blockchain Size\"]\n",
    "X = df.drop(columns=columns).to_numpy()\n",
    "y = df.filter(items=columns).to_numpy()\n",
    "\n",
    "X_size = X.shape[1]\n",
    "y_size = y.shape[1]\n",
    "\n",
    "# Data normalization\n",
    "X_normalization = np.max(X, axis=0)\n",
    "y_normalization = np.max(y, axis=0)\n",
    "X = X/X_normalization\n",
    "y = y/y_normalization\n",
    "\n",
    "# Set test data as N last days (there is one record per day)\n",
    "N = 30\n",
    "X, X_test = X[:-N], X[-N:]\n",
    "y, y_test = y[:-N], y[-N:]\n",
    "\n",
    "# Split training and validation datasets\n",
    "X_train, X_val, y_train, y_val = train_test_split(X, y, test_size=0.1, random_state=42)\n",
    "\n",
    "print(f'X train: {X_train.shape}\\ny train: {y_train.shape}')\n",
    "print(f'X val: {X_val.shape}\\ny val: {y_val.shape}')\n",
    "print(f'X test: {X_test.shape}\\ny test: {y_test.shape}')"
   ]
  },
  {
   "cell_type": "markdown",
   "metadata": {
    "id": "RGNaFImAAQtD"
   },
   "source": [
    "# Model definition"
   ]
  },
  {
   "cell_type": "code",
   "execution_count": 48,
   "metadata": {
    "colab": {
     "base_uri": "https://localhost:8080/"
    },
    "id": "tzuhvtg1ATLc",
    "outputId": "ffa29973-e5e9-4ae9-c91d-fecd8bde4502"
   },
   "outputs": [
    {
     "name": "stdout",
     "output_type": "stream",
     "text": [
      "Model: \"sequential\"\n",
      "_________________________________________________________________\n",
      "Layer (type)                 Output Shape              Param #   \n",
      "=================================================================\n",
      "dense (Dense)                (None, 512)               6656      \n",
      "_________________________________________________________________\n",
      "dense_1 (Dense)              (None, 32)                16416     \n",
      "_________________________________________________________________\n",
      "dense_2 (Dense)              (None, 3)                 99        \n",
      "=================================================================\n",
      "Total params: 23,171\n",
      "Trainable params: 23,171\n",
      "Non-trainable params: 0\n",
      "_________________________________________________________________\n"
     ]
    }
   ],
   "source": [
    "from keras.models import Sequential\n",
    "from keras.layers import Dense\n",
    "\n",
    "model1 = Sequential()\n",
    "model1.add(Dense(512, activation='relu', input_dim=X_size))\n",
    "model1.add(Dense(32, activation='relu'))\n",
    "model1.add(Dense(y_size))\n",
    "model1.compile(optimizer='adam', loss='mse')\n",
    "model1.summary()"
   ]
  },
  {
   "cell_type": "code",
   "execution_count": 49,
   "metadata": {
    "colab": {
     "base_uri": "https://localhost:8080/"
    },
    "id": "dJDrmQPIB2Xy",
    "outputId": "d6916fc4-b45f-469b-aa00-83b3107ddf64"
   },
   "outputs": [
    {
     "name": "stdout",
     "output_type": "stream",
     "text": [
      "Epoch 1/200\n",
      "127/127 [==============================] - 2s 11ms/step - loss: 0.0196 - val_loss: 5.4217e-04\n",
      "Epoch 2/200\n",
      "127/127 [==============================] - 1s 5ms/step - loss: 5.7856e-04 - val_loss: 4.9855e-04\n",
      "Epoch 3/200\n",
      "127/127 [==============================] - 1s 5ms/step - loss: 4.4134e-04 - val_loss: 3.3322e-04\n",
      "Epoch 4/200\n",
      "127/127 [==============================] - 1s 6ms/step - loss: 4.2163e-04 - val_loss: 3.4185e-04\n",
      "Epoch 5/200\n",
      "127/127 [==============================] - 1s 5ms/step - loss: 3.4342e-04 - val_loss: 3.6939e-04\n",
      "Epoch 6/200\n",
      "127/127 [==============================] - 1s 5ms/step - loss: 3.8929e-04 - val_loss: 3.0760e-04\n",
      "Epoch 7/200\n",
      "127/127 [==============================] - 1s 6ms/step - loss: 3.7234e-04 - val_loss: 5.9236e-04\n",
      "Epoch 8/200\n",
      "127/127 [==============================] - 1s 5ms/step - loss: 3.7491e-04 - val_loss: 2.2468e-04\n",
      "Epoch 9/200\n",
      "127/127 [==============================] - 1s 8ms/step - loss: 2.9650e-04 - val_loss: 3.1974e-04\n",
      "Epoch 10/200\n",
      "127/127 [==============================] - 1s 5ms/step - loss: 3.8021e-04 - val_loss: 2.6154e-04\n",
      "Epoch 11/200\n",
      "127/127 [==============================] - 1s 6ms/step - loss: 3.2259e-04 - val_loss: 3.4139e-04\n",
      "Epoch 12/200\n",
      "127/127 [==============================] - 1s 5ms/step - loss: 3.1161e-04 - val_loss: 2.6389e-04\n",
      "Epoch 13/200\n",
      "127/127 [==============================] - 1s 5ms/step - loss: 3.3094e-04 - val_loss: 2.2716e-04\n",
      "Epoch 14/200\n",
      "127/127 [==============================] - 1s 6ms/step - loss: 2.6680e-04 - val_loss: 2.7104e-04\n",
      "Epoch 15/200\n",
      "127/127 [==============================] - 1s 5ms/step - loss: 2.9307e-04 - val_loss: 2.4486e-04\n",
      "Epoch 16/200\n",
      "127/127 [==============================] - 1s 5ms/step - loss: 2.9152e-04 - val_loss: 2.2416e-04\n",
      "Epoch 17/200\n",
      "127/127 [==============================] - 1s 6ms/step - loss: 3.4804e-04 - val_loss: 2.1196e-04\n",
      "Epoch 18/200\n",
      "127/127 [==============================] - 1s 6ms/step - loss: 2.8483e-04 - val_loss: 2.3830e-04\n",
      "Epoch 19/200\n",
      "127/127 [==============================] - 1s 5ms/step - loss: 2.9805e-04 - val_loss: 2.1350e-04\n",
      "Epoch 20/200\n",
      "127/127 [==============================] - 1s 5ms/step - loss: 3.0064e-04 - val_loss: 3.6134e-04\n",
      "Epoch 21/200\n",
      "127/127 [==============================] - 1s 5ms/step - loss: 3.0473e-04 - val_loss: 2.2488e-04\n",
      "Epoch 22/200\n",
      "127/127 [==============================] - 1s 6ms/step - loss: 3.0955e-04 - val_loss: 2.3129e-04\n",
      "Epoch 23/200\n",
      "127/127 [==============================] - 1s 6ms/step - loss: 2.5236e-04 - val_loss: 1.9028e-04\n",
      "Epoch 24/200\n",
      "127/127 [==============================] - 1s 7ms/step - loss: 2.6837e-04 - val_loss: 2.3747e-04\n",
      "Epoch 25/200\n",
      "127/127 [==============================] - 1s 7ms/step - loss: 2.9368e-04 - val_loss: 3.1136e-04\n",
      "Epoch 26/200\n",
      "127/127 [==============================] - 1s 6ms/step - loss: 3.2410e-04 - val_loss: 1.8198e-04\n",
      "Epoch 27/200\n",
      "127/127 [==============================] - ETA: 0s - loss: 2.6856e-0 - 1s 6ms/step - loss: 2.7052e-04 - val_loss: 4.9709e-04\n",
      "Epoch 28/200\n",
      "127/127 [==============================] - 1s 7ms/step - loss: 3.9167e-04 - val_loss: 2.3403e-04\n",
      "Epoch 29/200\n",
      "127/127 [==============================] - 1s 8ms/step - loss: 2.9469e-04 - val_loss: 1.9812e-04\n",
      "Epoch 30/200\n",
      "127/127 [==============================] - 1s 7ms/step - loss: 2.9119e-04 - val_loss: 2.8153e-04\n",
      "Epoch 31/200\n",
      "127/127 [==============================] - 1s 7ms/step - loss: 2.9845e-04 - val_loss: 2.7724e-04\n",
      "Epoch 32/200\n",
      "127/127 [==============================] - 1s 6ms/step - loss: 2.9202e-04 - val_loss: 2.2611e-04\n",
      "Epoch 33/200\n",
      "127/127 [==============================] - 1s 7ms/step - loss: 2.2185e-04 - val_loss: 3.9170e-04\n",
      "Epoch 34/200\n",
      "127/127 [==============================] - 1s 8ms/step - loss: 3.1760e-04 - val_loss: 2.7226e-04\n",
      "Epoch 35/200\n",
      "127/127 [==============================] - 1s 6ms/step - loss: 2.8341e-04 - val_loss: 2.0599e-04\n",
      "Epoch 36/200\n",
      "127/127 [==============================] - 2s 12ms/step - loss: 3.3013e-04 - val_loss: 2.8637e-04\n",
      "Epoch 37/200\n",
      "127/127 [==============================] - 1s 9ms/step - loss: 2.9307e-04 - val_loss: 2.9507e-04\n",
      "Epoch 38/200\n",
      "127/127 [==============================] - 1s 8ms/step - loss: 3.1374e-04 - val_loss: 2.2061e-04\n",
      "Epoch 39/200\n",
      "127/127 [==============================] - 1s 10ms/step - loss: 2.7649e-04 - val_loss: 2.1532e-04\n",
      "Epoch 40/200\n",
      "127/127 [==============================] - 1s 10ms/step - loss: 2.5094e-04 - val_loss: 2.3789e-04\n",
      "Epoch 41/200\n",
      "127/127 [==============================] - 1s 8ms/step - loss: 2.5673e-04 - val_loss: 2.4393e-04\n",
      "Epoch 42/200\n",
      "127/127 [==============================] - 1s 7ms/step - loss: 2.5329e-04 - val_loss: 1.8465e-04\n",
      "Epoch 43/200\n",
      "127/127 [==============================] - 1s 8ms/step - loss: 2.4517e-04 - val_loss: 2.5061e-04\n",
      "Epoch 44/200\n",
      "127/127 [==============================] - 1s 9ms/step - loss: 2.7358e-04 - val_loss: 2.3566e-04\n",
      "Epoch 45/200\n",
      "127/127 [==============================] - 1s 7ms/step - loss: 2.6708e-04 - val_loss: 2.0580e-04\n",
      "Epoch 46/200\n",
      "127/127 [==============================] - 1s 9ms/step - loss: 2.7046e-04 - val_loss: 2.0439e-04\n",
      "Epoch 47/200\n",
      "127/127 [==============================] - 1s 9ms/step - loss: 2.6311e-04 - val_loss: 1.8951e-04\n",
      "Epoch 48/200\n",
      "127/127 [==============================] - 1s 11ms/step - loss: 2.6485e-04 - val_loss: 2.2204e-04\n",
      "Epoch 49/200\n",
      "127/127 [==============================] - 1s 7ms/step - loss: 3.4496e-04 - val_loss: 1.8213e-04\n",
      "Epoch 50/200\n",
      "127/127 [==============================] - 1s 5ms/step - loss: 2.6319e-04 - val_loss: 2.6086e-04\n",
      "Epoch 51/200\n",
      "127/127 [==============================] - 1s 5ms/step - loss: 2.9148e-04 - val_loss: 1.9113e-04\n",
      "Epoch 52/200\n",
      "127/127 [==============================] - 1s 5ms/step - loss: 2.5822e-04 - val_loss: 2.2305e-04\n",
      "Epoch 53/200\n",
      "127/127 [==============================] - 1s 7ms/step - loss: 2.4969e-04 - val_loss: 2.1380e-04\n",
      "Epoch 54/200\n",
      "127/127 [==============================] - 1s 9ms/step - loss: 2.4472e-04 - val_loss: 2.4271e-04\n",
      "Epoch 55/200\n",
      "127/127 [==============================] - 1s 5ms/step - loss: 2.4777e-04 - val_loss: 1.7418e-04\n",
      "Epoch 56/200\n",
      "127/127 [==============================] - 1s 5ms/step - loss: 2.3604e-04 - val_loss: 1.9584e-04\n",
      "Epoch 57/200\n",
      "127/127 [==============================] - 1s 6ms/step - loss: 2.2827e-04 - val_loss: 3.0564e-04\n",
      "Epoch 58/200\n",
      "127/127 [==============================] - 1s 5ms/step - loss: 2.4993e-04 - val_loss: 2.3946e-04\n",
      "Epoch 59/200\n",
      "127/127 [==============================] - 1s 7ms/step - loss: 2.5772e-04 - val_loss: 1.9954e-04\n",
      "Epoch 60/200\n",
      "127/127 [==============================] - 1s 11ms/step - loss: 2.3633e-04 - val_loss: 1.8147e-04\n",
      "Epoch 61/200\n",
      "127/127 [==============================] - 1s 5ms/step - loss: 2.4847e-04 - val_loss: 1.9050e-04\n",
      "Epoch 62/200\n",
      "127/127 [==============================] - 2s 13ms/step - loss: 2.6260e-04 - val_loss: 1.7751e-04\n",
      "Epoch 63/200\n",
      "127/127 [==============================] - 1s 5ms/step - loss: 2.5540e-04 - val_loss: 2.5640e-04\n",
      "Epoch 64/200\n",
      "127/127 [==============================] - 1s 5ms/step - loss: 2.3889e-04 - val_loss: 2.8847e-04\n",
      "Epoch 65/200\n",
      "127/127 [==============================] - 1s 5ms/step - loss: 2.7972e-04 - val_loss: 1.8560e-04\n",
      "Epoch 66/200\n",
      "127/127 [==============================] - 1s 4ms/step - loss: 2.5185e-04 - val_loss: 2.3119e-04\n",
      "Epoch 67/200\n",
      "127/127 [==============================] - 1s 5ms/step - loss: 2.4403e-04 - val_loss: 1.9723e-04\n",
      "Epoch 68/200\n",
      "127/127 [==============================] - 1s 4ms/step - loss: 2.7651e-04 - val_loss: 1.7431e-04\n",
      "Epoch 69/200\n",
      "127/127 [==============================] - 1s 5ms/step - loss: 2.5629e-04 - val_loss: 1.8872e-04\n",
      "Epoch 70/200\n",
      "127/127 [==============================] - 1s 5ms/step - loss: 2.6702e-04 - val_loss: 1.9591e-04\n",
      "Epoch 71/200\n",
      "127/127 [==============================] - 1s 6ms/step - loss: 2.1818e-04 - val_loss: 1.8655e-04\n",
      "Epoch 72/200\n",
      "127/127 [==============================] - 1s 5ms/step - loss: 2.8555e-04 - val_loss: 2.4345e-04\n",
      "Epoch 73/200\n",
      "127/127 [==============================] - 1s 5ms/step - loss: 2.5663e-04 - val_loss: 1.6694e-04\n",
      "Epoch 74/200\n",
      "127/127 [==============================] - 1s 4ms/step - loss: 1.8540e-04 - val_loss: 2.8868e-04\n",
      "Epoch 75/200\n"
     ]
    },
    {
     "name": "stdout",
     "output_type": "stream",
     "text": [
      "127/127 [==============================] - 1s 4ms/step - loss: 2.7708e-04 - val_loss: 1.7922e-04\n",
      "Epoch 76/200\n",
      "127/127 [==============================] - 1s 4ms/step - loss: 2.4049e-04 - val_loss: 2.3833e-04\n",
      "Epoch 77/200\n",
      "127/127 [==============================] - 1s 6ms/step - loss: 2.8683e-04 - val_loss: 2.2343e-04\n",
      "Epoch 78/200\n",
      "127/127 [==============================] - 1s 6ms/step - loss: 2.4195e-04 - val_loss: 1.8374e-04\n",
      "Epoch 79/200\n",
      "127/127 [==============================] - 1s 5ms/step - loss: 2.0647e-04 - val_loss: 2.2628e-04\n",
      "Epoch 80/200\n",
      "127/127 [==============================] - 1s 4ms/step - loss: 2.5265e-04 - val_loss: 2.1662e-04\n",
      "Epoch 81/200\n",
      "127/127 [==============================] - 1s 5ms/step - loss: 2.1721e-04 - val_loss: 2.4461e-04\n",
      "Epoch 82/200\n",
      "127/127 [==============================] - 1s 6ms/step - loss: 2.5702e-04 - val_loss: 1.7893e-04\n",
      "Epoch 83/200\n",
      "127/127 [==============================] - 1s 5ms/step - loss: 2.5122e-04 - val_loss: 2.6537e-04\n",
      "Epoch 84/200\n",
      "127/127 [==============================] - 1s 7ms/step - loss: 2.5423e-04 - val_loss: 1.9310e-04\n",
      "Epoch 85/200\n",
      "127/127 [==============================] - 1s 6ms/step - loss: 2.5255e-04 - val_loss: 1.9306e-04\n",
      "Epoch 86/200\n",
      "127/127 [==============================] - 1s 5ms/step - loss: 2.4625e-04 - val_loss: 2.6468e-04\n",
      "Epoch 87/200\n",
      "127/127 [==============================] - 1s 5ms/step - loss: 2.0803e-04 - val_loss: 1.6437e-04\n",
      "Epoch 88/200\n",
      "127/127 [==============================] - 1s 6ms/step - loss: 2.1055e-04 - val_loss: 1.5480e-04\n",
      "Epoch 89/200\n",
      "127/127 [==============================] - 1s 5ms/step - loss: 2.2902e-04 - val_loss: 2.1541e-04\n",
      "Epoch 90/200\n",
      "127/127 [==============================] - 1s 4ms/step - loss: 2.7746e-04 - val_loss: 2.0231e-04\n",
      "Epoch 91/200\n",
      "127/127 [==============================] - 1s 4ms/step - loss: 2.2605e-04 - val_loss: 1.7983e-04\n",
      "Epoch 92/200\n",
      "127/127 [==============================] - 1s 4ms/step - loss: 2.1456e-04 - val_loss: 2.1295e-04\n",
      "Epoch 93/200\n",
      "127/127 [==============================] - 1s 5ms/step - loss: 2.5363e-04 - val_loss: 1.7980e-04\n",
      "Epoch 94/200\n",
      "127/127 [==============================] - 1s 5ms/step - loss: 2.7870e-04 - val_loss: 1.7329e-04\n",
      "Epoch 95/200\n",
      "127/127 [==============================] - 1s 5ms/step - loss: 2.4888e-04 - val_loss: 1.8265e-04\n",
      "Epoch 96/200\n",
      "127/127 [==============================] - 1s 5ms/step - loss: 2.1693e-04 - val_loss: 1.9602e-04\n",
      "Epoch 97/200\n",
      "127/127 [==============================] - 1s 4ms/step - loss: 2.0464e-04 - val_loss: 1.8617e-04\n",
      "Epoch 98/200\n",
      "127/127 [==============================] - 1s 5ms/step - loss: 2.3074e-04 - val_loss: 1.6764e-04\n",
      "Epoch 99/200\n",
      "127/127 [==============================] - 1s 5ms/step - loss: 2.2368e-04 - val_loss: 3.0955e-04\n",
      "Epoch 100/200\n",
      "127/127 [==============================] - 1s 4ms/step - loss: 2.6185e-04 - val_loss: 2.2528e-04\n",
      "Epoch 101/200\n",
      "127/127 [==============================] - 1s 6ms/step - loss: 2.4356e-04 - val_loss: 1.8772e-04\n",
      "Epoch 102/200\n",
      "127/127 [==============================] - 1s 4ms/step - loss: 2.1239e-04 - val_loss: 1.6985e-04\n",
      "Epoch 103/200\n",
      "127/127 [==============================] - 1s 5ms/step - loss: 2.3093e-04 - val_loss: 2.0479e-04\n",
      "Epoch 104/200\n",
      "127/127 [==============================] - 1s 4ms/step - loss: 2.2622e-04 - val_loss: 2.7282e-04\n",
      "Epoch 105/200\n",
      "127/127 [==============================] - 1s 5ms/step - loss: 2.3801e-04 - val_loss: 2.3646e-04\n",
      "Epoch 106/200\n",
      "127/127 [==============================] - 1s 7ms/step - loss: 2.6203e-04 - val_loss: 1.7581e-04\n",
      "Epoch 107/200\n",
      "127/127 [==============================] - 1s 6ms/step - loss: 2.0527e-04 - val_loss: 1.6875e-04\n",
      "Epoch 108/200\n",
      "127/127 [==============================] - 1s 7ms/step - loss: 2.1102e-04 - val_loss: 1.8777e-04\n",
      "Epoch 109/200\n",
      "127/127 [==============================] - 1s 7ms/step - loss: 2.3404e-04 - val_loss: 1.8513e-04\n",
      "Epoch 110/200\n",
      "127/127 [==============================] - 1s 8ms/step - loss: 2.4582e-04 - val_loss: 1.7520e-04\n",
      "Epoch 111/200\n",
      "127/127 [==============================] - 1s 8ms/step - loss: 2.2488e-04 - val_loss: 1.8612e-04\n",
      "Epoch 112/200\n",
      "127/127 [==============================] - 1s 5ms/step - loss: 2.4795e-04 - val_loss: 1.5195e-04\n",
      "Epoch 113/200\n",
      "127/127 [==============================] - 1s 11ms/step - loss: 2.2131e-04 - val_loss: 3.1116e-04\n",
      "Epoch 114/200\n",
      "127/127 [==============================] - 1s 7ms/step - loss: 2.3204e-04 - val_loss: 1.9400e-04\n",
      "Epoch 115/200\n",
      "127/127 [==============================] - 1s 9ms/step - loss: 2.2340e-04 - val_loss: 1.7502e-04\n",
      "Epoch 116/200\n",
      "127/127 [==============================] - 1s 7ms/step - loss: 2.1642e-04 - val_loss: 1.8854e-04\n",
      "Epoch 117/200\n",
      "127/127 [==============================] - 1s 6ms/step - loss: 1.9867e-04 - val_loss: 1.6834e-04\n",
      "Epoch 118/200\n",
      "127/127 [==============================] - 1s 6ms/step - loss: 1.9748e-04 - val_loss: 1.9023e-04\n",
      "Epoch 119/200\n",
      "127/127 [==============================] - 1s 10ms/step - loss: 2.4249e-04 - val_loss: 1.7148e-04\n",
      "Epoch 120/200\n",
      "127/127 [==============================] - 2s 13ms/step - loss: 2.2315e-04 - val_loss: 1.6695e-04\n",
      "Epoch 121/200\n",
      "127/127 [==============================] - 1s 9ms/step - loss: 2.4544e-04 - val_loss: 1.6508e-04\n",
      "Epoch 122/200\n",
      "127/127 [==============================] - 1s 8ms/step - loss: 2.2668e-04 - val_loss: 1.8318e-04\n",
      "Epoch 123/200\n",
      "127/127 [==============================] - 1s 6ms/step - loss: 2.2299e-04 - val_loss: 1.7866e-04\n",
      "Epoch 124/200\n",
      "127/127 [==============================] - 1s 6ms/step - loss: 2.2363e-04 - val_loss: 1.5914e-04\n",
      "Epoch 125/200\n",
      "127/127 [==============================] - 1s 5ms/step - loss: 2.1639e-04 - val_loss: 1.7587e-04\n",
      "Epoch 126/200\n",
      "127/127 [==============================] - 1s 5ms/step - loss: 2.1031e-04 - val_loss: 1.8061e-04\n",
      "Epoch 127/200\n",
      "127/127 [==============================] - 1s 6ms/step - loss: 2.5549e-04 - val_loss: 1.8625e-04\n",
      "Epoch 128/200\n",
      "127/127 [==============================] - 1s 5ms/step - loss: 2.2476e-04 - val_loss: 2.4202e-04\n",
      "Epoch 129/200\n",
      "127/127 [==============================] - 1s 7ms/step - loss: 2.6740e-04 - val_loss: 1.9693e-04\n",
      "Epoch 130/200\n",
      "127/127 [==============================] - 1s 6ms/step - loss: 2.2536e-04 - val_loss: 2.4346e-04\n",
      "Epoch 131/200\n",
      "127/127 [==============================] - 1s 9ms/step - loss: 2.6161e-04 - val_loss: 1.6498e-04\n",
      "Epoch 132/200\n",
      "127/127 [==============================] - 1s 9ms/step - loss: 2.6939e-04 - val_loss: 1.5984e-04\n",
      "Epoch 133/200\n",
      "127/127 [==============================] - 1s 5ms/step - loss: 1.8880e-04 - val_loss: 1.8069e-04\n",
      "Epoch 134/200\n",
      "127/127 [==============================] - 1s 4ms/step - loss: 2.2966e-04 - val_loss: 1.5926e-04\n",
      "Epoch 135/200\n",
      "127/127 [==============================] - 1s 5ms/step - loss: 2.2399e-04 - val_loss: 2.5523e-04\n",
      "Epoch 136/200\n",
      "127/127 [==============================] - 1s 4ms/step - loss: 2.4016e-04 - val_loss: 1.7636e-04\n",
      "Epoch 137/200\n",
      "127/127 [==============================] - 1s 5ms/step - loss: 2.0882e-04 - val_loss: 1.5389e-04\n",
      "Epoch 138/200\n",
      "127/127 [==============================] - 1s 4ms/step - loss: 1.8884e-04 - val_loss: 2.0041e-04\n",
      "Epoch 139/200\n",
      "127/127 [==============================] - 1s 5ms/step - loss: 2.4559e-04 - val_loss: 1.8142e-04\n",
      "Epoch 140/200\n",
      "127/127 [==============================] - 1s 5ms/step - loss: 1.8509e-04 - val_loss: 1.6307e-04\n",
      "Epoch 141/200\n",
      "127/127 [==============================] - 1s 5ms/step - loss: 2.3392e-04 - val_loss: 2.3076e-04\n",
      "Epoch 142/200\n",
      "127/127 [==============================] - 1s 6ms/step - loss: 2.2922e-04 - val_loss: 2.1369e-04\n",
      "Epoch 143/200\n",
      "127/127 [==============================] - 1s 5ms/step - loss: 2.5075e-04 - val_loss: 1.8308e-04\n",
      "Epoch 144/200\n",
      "127/127 [==============================] - 1s 5ms/step - loss: 2.2692e-04 - val_loss: 1.7426e-04\n",
      "Epoch 145/200\n",
      "127/127 [==============================] - 1s 6ms/step - loss: 2.3409e-04 - val_loss: 1.7165e-04\n",
      "Epoch 146/200\n",
      "127/127 [==============================] - 1s 5ms/step - loss: 2.2712e-04 - val_loss: 1.6375e-04\n",
      "Epoch 147/200\n",
      "127/127 [==============================] - 1s 6ms/step - loss: 2.3768e-04 - val_loss: 1.6239e-04\n",
      "Epoch 148/200\n",
      "127/127 [==============================] - 1s 6ms/step - loss: 2.0112e-04 - val_loss: 1.7854e-04\n",
      "Epoch 149/200\n"
     ]
    },
    {
     "name": "stdout",
     "output_type": "stream",
     "text": [
      "127/127 [==============================] - 1s 5ms/step - loss: 2.1943e-04 - val_loss: 1.9145e-04\n",
      "Epoch 150/200\n",
      "127/127 [==============================] - 1s 5ms/step - loss: 2.2747e-04 - val_loss: 1.6984e-04\n",
      "Epoch 151/200\n",
      "127/127 [==============================] - 1s 6ms/step - loss: 2.2283e-04 - val_loss: 1.7163e-04\n",
      "Epoch 152/200\n",
      "127/127 [==============================] - 1s 5ms/step - loss: 2.0554e-04 - val_loss: 1.8604e-04\n",
      "Epoch 153/200\n",
      "127/127 [==============================] - 1s 5ms/step - loss: 2.4335e-04 - val_loss: 1.6092e-04\n",
      "Epoch 154/200\n",
      "127/127 [==============================] - 1s 5ms/step - loss: 2.0289e-04 - val_loss: 1.8792e-04\n",
      "Epoch 155/200\n",
      "127/127 [==============================] - 1s 6ms/step - loss: 2.0943e-04 - val_loss: 1.9012e-04\n",
      "Epoch 156/200\n",
      "127/127 [==============================] - 1s 6ms/step - loss: 2.1760e-04 - val_loss: 1.6024e-04\n",
      "Epoch 157/200\n",
      "127/127 [==============================] - 1s 7ms/step - loss: 1.9709e-04 - val_loss: 1.8732e-04\n",
      "Epoch 158/200\n",
      "127/127 [==============================] - 1s 5ms/step - loss: 2.1876e-04 - val_loss: 1.6831e-04\n",
      "Epoch 159/200\n",
      "127/127 [==============================] - 1s 6ms/step - loss: 2.3046e-04 - val_loss: 2.0044e-04\n",
      "Epoch 160/200\n",
      "127/127 [==============================] - 1s 8ms/step - loss: 2.2533e-04 - val_loss: 1.7020e-04\n",
      "Epoch 161/200\n",
      "127/127 [==============================] - 1s 7ms/step - loss: 2.1751e-04 - val_loss: 1.6099e-04\n",
      "Epoch 162/200\n",
      "127/127 [==============================] - 1s 7ms/step - loss: 1.9368e-04 - val_loss: 1.9831e-04\n",
      "Epoch 163/200\n",
      "127/127 [==============================] - 1s 6ms/step - loss: 2.0291e-04 - val_loss: 1.9409e-04\n",
      "Epoch 164/200\n",
      "127/127 [==============================] - 1s 9ms/step - loss: 2.3927e-04 - val_loss: 1.5836e-04\n",
      "Epoch 165/200\n",
      "127/127 [==============================] - 1s 6ms/step - loss: 2.0464e-04 - val_loss: 1.9482e-04\n",
      "Epoch 166/200\n",
      "127/127 [==============================] - 1s 10ms/step - loss: 2.3580e-04 - val_loss: 1.4278e-04\n",
      "Epoch 167/200\n",
      "127/127 [==============================] - 2s 12ms/step - loss: 2.6228e-04 - val_loss: 1.8510e-04\n",
      "Epoch 168/200\n",
      "127/127 [==============================] - 2s 13ms/step - loss: 2.4105e-04 - val_loss: 1.5585e-04\n",
      "Epoch 169/200\n",
      "127/127 [==============================] - 1s 8ms/step - loss: 2.2228e-04 - val_loss: 1.5528e-04\n",
      "Epoch 170/200\n",
      "127/127 [==============================] - 1s 10ms/step - loss: 2.1279e-04 - val_loss: 1.4989e-04\n",
      "Epoch 171/200\n",
      "127/127 [==============================] - 1s 11ms/step - loss: 2.1920e-04 - val_loss: 1.9629e-04\n",
      "Epoch 172/200\n",
      "127/127 [==============================] - 2s 14ms/step - loss: 2.4204e-04 - val_loss: 1.6893e-04\n",
      "Epoch 173/200\n",
      "127/127 [==============================] - 2s 15ms/step - loss: 2.0041e-04 - val_loss: 1.8027e-04\n",
      "Epoch 174/200\n",
      "127/127 [==============================] - 1s 9ms/step - loss: 2.0796e-04 - val_loss: 1.5002e-04\n",
      "Epoch 175/200\n",
      "127/127 [==============================] - 1s 9ms/step - loss: 2.0546e-04 - val_loss: 1.7585e-04\n",
      "Epoch 176/200\n",
      "127/127 [==============================] - 1s 8ms/step - loss: 1.9678e-04 - val_loss: 1.6469e-04\n",
      "Epoch 177/200\n",
      "127/127 [==============================] - 1s 11ms/step - loss: 2.0031e-04 - val_loss: 1.7974e-04\n",
      "Epoch 178/200\n",
      "127/127 [==============================] - 2s 14ms/step - loss: 2.3641e-04 - val_loss: 1.5053e-04\n",
      "Epoch 179/200\n",
      "127/127 [==============================] - 1s 7ms/step - loss: 1.9655e-04 - val_loss: 1.7025e-04\n",
      "Epoch 180/200\n",
      "127/127 [==============================] - 1s 6ms/step - loss: 2.1137e-04 - val_loss: 1.8590e-04\n",
      "Epoch 181/200\n",
      "127/127 [==============================] - 2s 12ms/step - loss: 2.1274e-04 - val_loss: 1.6033e-04\n",
      "Epoch 182/200\n",
      "127/127 [==============================] - 1s 7ms/step - loss: 1.8344e-04 - val_loss: 1.8606e-04\n",
      "Epoch 183/200\n",
      "127/127 [==============================] - 1s 6ms/step - loss: 2.1985e-04 - val_loss: 1.5868e-04\n",
      "Epoch 184/200\n",
      "127/127 [==============================] - 1s 6ms/step - loss: 2.2526e-04 - val_loss: 1.6006e-04\n",
      "Epoch 185/200\n",
      "127/127 [==============================] - 1s 5ms/step - loss: 2.0644e-04 - val_loss: 1.7525e-04\n",
      "Epoch 186/200\n",
      "127/127 [==============================] - 1s 7ms/step - loss: 2.1853e-04 - val_loss: 2.1838e-04\n",
      "Epoch 187/200\n",
      "127/127 [==============================] - 1s 5ms/step - loss: 2.3430e-04 - val_loss: 1.9616e-04\n",
      "Epoch 188/200\n",
      "127/127 [==============================] - 1s 4ms/step - loss: 2.3104e-04 - val_loss: 1.8124e-04\n",
      "Epoch 189/200\n",
      "127/127 [==============================] - 1s 5ms/step - loss: 2.1351e-04 - val_loss: 1.8623e-04\n",
      "Epoch 190/200\n",
      "127/127 [==============================] - 1s 4ms/step - loss: 2.5238e-04 - val_loss: 1.5937e-04\n",
      "Epoch 191/200\n",
      "127/127 [==============================] - 1s 4ms/step - loss: 2.1119e-04 - val_loss: 1.5649e-04\n",
      "Epoch 192/200\n",
      "127/127 [==============================] - 1s 6ms/step - loss: 2.0536e-04 - val_loss: 2.2973e-04\n",
      "Epoch 193/200\n",
      "127/127 [==============================] - 1s 6ms/step - loss: 2.2602e-04 - val_loss: 1.5582e-04\n",
      "Epoch 194/200\n",
      "127/127 [==============================] - 1s 5ms/step - loss: 2.2108e-04 - val_loss: 1.6431e-04\n",
      "Epoch 195/200\n",
      "127/127 [==============================] - 1s 5ms/step - loss: 2.0279e-04 - val_loss: 1.9771e-04\n",
      "Epoch 196/200\n",
      "127/127 [==============================] - 1s 5ms/step - loss: 2.0949e-04 - val_loss: 1.8377e-04\n",
      "Epoch 197/200\n",
      "127/127 [==============================] - 1s 5ms/step - loss: 2.0381e-04 - val_loss: 1.5399e-04\n",
      "Epoch 198/200\n",
      "127/127 [==============================] - 1s 5ms/step - loss: 1.9153e-04 - val_loss: 1.5640e-04\n",
      "Epoch 199/200\n",
      "127/127 [==============================] - 1s 5ms/step - loss: 2.1445e-04 - val_loss: 1.5023e-04\n",
      "Epoch 200/200\n",
      "127/127 [==============================] - 1s 5ms/step - loss: 2.0188e-04 - val_loss: 1.9097e-04\n"
     ]
    }
   ],
   "source": [
    "history1 = model1.fit(\n",
    "    X_train,\n",
    "    y_train,\n",
    "    batch_size = 32,\n",
    "    epochs=200,\n",
    "    validation_data=(X_val, y_val),\n",
    ")"
   ]
  },
  {
   "cell_type": "code",
   "execution_count": 50,
   "metadata": {
    "id": "d7F1hBcLDyCu"
   },
   "outputs": [],
   "source": [
    "y_hat = model1.predict(X_test, verbose=0)"
   ]
  },
  {
   "cell_type": "code",
   "execution_count": 51,
   "metadata": {
    "colab": {
     "base_uri": "https://localhost:8080/",
     "height": 621
    },
    "id": "z_KTBQMyOqMu",
    "outputId": "adf074b2-1bd8-49ef-decd-850a7f22a2ea"
   },
   "outputs": [
    {
     "data": {
      "image/png": "[encoded data removed]",
      "text/plain": [
       "<Figure size 432x288 with 1 Axes>"
      ]
     },
     "metadata": {
      "needs_background": "light"
     },
     "output_type": "display_data"
    }
   ],
   "source": [
    "# summarize history for loss\n",
    "plt.plot(history1.history['loss'])\n",
    "plt.plot(history1.history['val_loss'])\n",
    "plt.title('model loss')\n",
    "plt.ylabel('loss')\n",
    "plt.xlabel('epoch')\n",
    "plt.legend(['train', 'test'], loc='upper left')\n",
    "plt.show()"
   ]
  },
  {
   "cell_type": "code",
   "execution_count": 52,
   "metadata": {
    "colab": {
     "base_uri": "https://localhost:8080/",
     "height": 607
    },
    "id": "GnG8ZqqvGAYc",
    "outputId": "84d8f799-5313-4757-fb40-a7b2a992d057"
   },
   "outputs": [
    {
     "data": {
      "image/png": "[encoded data removed]",
      "text/plain": [
       "<Figure size 432x288 with 3 Axes>"
      ]
     },
     "metadata": {
      "needs_background": "light"
     },
     "output_type": "display_data"
    }
   ],
   "source": [
    "y_hat_p = (y_hat * y_normalization).swapaxes(0,1)\n",
    "y_test_p = (y_test * y_normalization).swapaxes(0,1) \n",
    "\n",
    "fig, axs = plt.subplots(1,y_size)\n",
    "for idx, (prediction, ground_truth, label) in enumerate(zip(y_hat_p, y_test_p, columns)):\n",
    "  axs[idx].plot(prediction, label='prediction')\n",
    "  axs[idx].plot(ground_truth, label='ground truth')\n",
    "  axs[idx].set_title(label)\n",
    "  axs[idx].legend()\n",
    "\n",
    "plt.show()   "
   ]
  },
  {
   "cell_type": "markdown",
   "metadata": {
    "id": "FGtk7O6pO5ht"
   },
   "source": [
    "# Multivariate single step MLP prediction with history\n",
    "In previous example we have only taken into consideration current values of parameters in order to make prediction. In this section we will try to take N steps back in history and make prediction on that. We will also include in X dataset history of predicting values.\n",
    "\n",
    "The goal of this method would be to predict *Market Price USD*, *Hash rate* and *Blockchain Size* based on N historical values.\n",
    "\n",
    "$[X_{1}, X_{2}...X_{N}]$ -> $[x_{price}, x_{hash}, x_{blockchain}]$\n",
    "\n",
    "where \n",
    "\n",
    "$[x_{price}, x_{hash}, x_{blockchain}] \\subset X_{N+1}$ and $X_{N} = [x_{1}, x_{2}...x_{15}]$"
   ]
  },
  {
   "cell_type": "markdown",
   "metadata": {
    "id": "KVzCN_ZPSEXV"
   },
   "source": [
    "## Data preparation"
   ]
  },
  {
   "cell_type": "markdown",
   "metadata": {
    "id": "oV6t0rRGS320"
   },
   "source": [
    "Helping function that will split dataset to N history packs"
   ]
  },
  {
   "cell_type": "code",
   "execution_count": 53,
   "metadata": {
    "id": "C8BVoeWcS2iS"
   },
   "outputs": [],
   "source": [
    "def split_sequences(sequences, n_steps):\n",
    "  X, y = list(), list()\n",
    "  for i in range(len(sequences)):\n",
    "    # find the end of this pattern\n",
    "    end_ix = i + n_steps\n",
    "\t\t# check if we are beyond the dataset\n",
    "    if end_ix > len(sequences) - 1:\n",
    "      break\n",
    "\t\t# gather input and output parts of the pattern\n",
    "    seq_x, seq_y = sequences[i:end_ix], sequences[end_ix]\n",
    "    X.append(seq_x)\n",
    "    y.append(seq_y)\n",
    "  return np.array(X), np.array(y)"
   ]
  },
  {
   "cell_type": "code",
   "execution_count": 54,
   "metadata": {
    "colab": {
     "base_uri": "https://localhost:8080/"
    },
    "id": "_llulv_GSG9X",
    "outputId": "1d09dd1a-7088-4a0f-a2bb-dfd304f3201f"
   },
   "outputs": [
    {
     "name": "stdout",
     "output_type": "stream",
     "text": [
      "Dataset shape: (4543, 15)\n",
      "X train: (4032, 480)\n",
      "y train: (4032, 3)\n",
      "X val: (449, 480)\n",
      "y val: (449, 3)\n",
      "X test: (30, 480)\n",
      "y test: (30, 3)\n"
     ]
    }
   ],
   "source": [
    "from sklearn.model_selection import train_test_split\n",
    "\n",
    "df = btc_data.copy()\n",
    "\n",
    "columns = [\"Market Price USD\", \"Hash rate\", \"Blockchain Size\"]\n",
    "columns_idx = [df.columns.get_loc(c) for c in columns if c in df]\n",
    "\n",
    "HISTORY_LENGTH = 32\n",
    "X = df.to_numpy()\n",
    "print(f'Dataset shape: {X.shape}')\n",
    "\n",
    "# Data normalization\n",
    "X_normalization = np.max(X, axis=0)\n",
    "y_normalization = X_normalization[columns_idx]\n",
    "X = X/X_normalization\n",
    "\n",
    "# Split into X and y\n",
    "X, y = split_sequences(X, HISTORY_LENGTH)\n",
    "y = y[:,columns_idx]\n",
    "\n",
    "# flatten input\n",
    "n_input = X.shape[1] * X.shape[2]\n",
    "X = X.reshape((X.shape[0], n_input))\n",
    "\n",
    "X_size = X.shape[1]\n",
    "y_size = y.shape[1]\n",
    "\n",
    "# Set test data as N last days (there is one record per day)\n",
    "N = 30\n",
    "X, X_test = X[:-N], X[-N:]\n",
    "y, y_test = y[:-N], y[-N:]\n",
    "\n",
    "# Split training and validation datasets\n",
    "X_train, X_val, y_train, y_val = train_test_split(X, y, test_size=0.1, random_state=42)\n",
    "\n",
    "print(f'X train: {X_train.shape}\\ny train: {y_train.shape}')\n",
    "print(f'X val: {X_val.shape}\\ny val: {y_val.shape}')\n",
    "print(f'X test: {X_test.shape}\\ny test: {y_test.shape}')"
   ]
  },
  {
   "cell_type": "code",
   "execution_count": 55,
   "metadata": {
    "colab": {
     "base_uri": "https://localhost:8080/"
    },
    "id": "rN185_26Z4tb",
    "outputId": "36e73d56-86d6-462f-d3e6-932d00eff843"
   },
   "outputs": [
    {
     "name": "stdout",
     "output_type": "stream",
     "text": [
      "Model: \"sequential_1\"\n",
      "_________________________________________________________________\n",
      "Layer (type)                 Output Shape              Param #   \n",
      "=================================================================\n",
      "dense_3 (Dense)              (None, 1024)              492544    \n",
      "_________________________________________________________________\n",
      "dense_4 (Dense)              (None, 128)               131200    \n",
      "_________________________________________________________________\n",
      "dense_5 (Dense)              (None, 3)                 387       \n",
      "=================================================================\n",
      "Total params: 624,131\n",
      "Trainable params: 624,131\n",
      "Non-trainable params: 0\n",
      "_________________________________________________________________\n"
     ]
    }
   ],
   "source": [
    "model2 = Sequential()\n",
    "model2.add(Dense(1024, activation='relu', input_dim=n_input))\n",
    "model2.add(Dense(128, activation='relu'))\n",
    "model2.add(Dense(y_size))\n",
    "model2.compile(optimizer='adam', loss='mse')\n",
    "model2.summary()"
   ]
  },
  {
   "cell_type": "code",
   "execution_count": 56,
   "metadata": {
    "colab": {
     "base_uri": "https://localhost:8080/"
    },
    "id": "9VgGpbkRanFT",
    "outputId": "5fa9cf5e-50c3-47f6-abdc-723c424aefc7"
   },
   "outputs": [
    {
     "name": "stdout",
     "output_type": "stream",
     "text": [
      "Epoch 1/100\n",
      "126/126 [==============================] - 3s 21ms/step - loss: 0.0549 - val_loss: 0.0012\n",
      "Epoch 2/100\n",
      "126/126 [==============================] - 2s 18ms/step - loss: 9.2924e-04 - val_loss: 0.0024\n",
      "Epoch 3/100\n",
      "126/126 [==============================] - 1s 11ms/step - loss: 0.0011 - val_loss: 6.2105e-04\n",
      "Epoch 4/100\n",
      "126/126 [==============================] - 1s 10ms/step - loss: 6.1303e-04 - val_loss: 3.1860e-04\n",
      "Epoch 5/100\n",
      "126/126 [==============================] - 2s 13ms/step - loss: 4.4138e-04 - val_loss: 4.3802e-04\n",
      "Epoch 6/100\n",
      "126/126 [==============================] - 3s 20ms/step - loss: 6.4035e-04 - val_loss: 3.2497e-04\n",
      "Epoch 7/100\n",
      "126/126 [==============================] - 3s 26ms/step - loss: 4.3273e-04 - val_loss: 2.8269e-04\n",
      "Epoch 8/100\n",
      "126/126 [==============================] - 3s 21ms/step - loss: 4.7166e-04 - val_loss: 6.2057e-04\n",
      "Epoch 9/100\n",
      "126/126 [==============================] - 2s 19ms/step - loss: 5.5979e-04 - val_loss: 2.8854e-04\n",
      "Epoch 10/100\n",
      "126/126 [==============================] - 3s 20ms/step - loss: 3.9831e-04 - val_loss: 6.4176e-04\n",
      "Epoch 11/100\n",
      "126/126 [==============================] - 4s 30ms/step - loss: 5.2115e-04 - val_loss: 2.9159e-04\n",
      "Epoch 12/100\n",
      "126/126 [==============================] - 3s 26ms/step - loss: 3.3865e-04 - val_loss: 4.2796e-04\n",
      "Epoch 13/100\n",
      "126/126 [==============================] - 3s 20ms/step - loss: 5.1013e-04 - val_loss: 2.9864e-04\n",
      "Epoch 14/100\n",
      "126/126 [==============================] - 2s 20ms/step - loss: 3.3277e-04 - val_loss: 6.0741e-04\n",
      "Epoch 15/100\n",
      "126/126 [==============================] - 2s 19ms/step - loss: 3.2487e-04 - val_loss: 3.4564e-04\n",
      "Epoch 16/100\n",
      "126/126 [==============================] - 4s 29ms/step - loss: 2.9567e-04 - val_loss: 2.7890e-04\n",
      "Epoch 17/100\n",
      "126/126 [==============================] - 3s 26ms/step - loss: 3.3676e-04 - val_loss: 4.0278e-04\n",
      "Epoch 18/100\n",
      "126/126 [==============================] - 3s 24ms/step - loss: 3.1442e-04 - val_loss: 4.7526e-04\n",
      "Epoch 19/100\n",
      "126/126 [==============================] - 3s 24ms/step - loss: 2.8285e-04 - val_loss: 2.6320e-04\n",
      "Epoch 20/100\n",
      "126/126 [==============================] - 3s 22ms/step - loss: 2.7176e-04 - val_loss: 2.4047e-04\n",
      "Epoch 21/100\n",
      "126/126 [==============================] - 3s 20ms/step - loss: 2.9046e-04 - val_loss: 2.6372e-04\n",
      "Epoch 22/100\n",
      "126/126 [==============================] - 3s 20ms/step - loss: 2.4362e-04 - val_loss: 2.3110e-04\n",
      "Epoch 23/100\n",
      "126/126 [==============================] - 2s 17ms/step - loss: 3.0912e-04 - val_loss: 2.4700e-04\n",
      "Epoch 24/100\n",
      "126/126 [==============================] - 2s 19ms/step - loss: 2.7515e-04 - val_loss: 2.5556e-04\n",
      "Epoch 25/100\n",
      "126/126 [==============================] - 3s 23ms/step - loss: 2.7977e-04 - val_loss: 3.9753e-04\n",
      "Epoch 26/100\n",
      "126/126 [==============================] - 3s 24ms/step - loss: 3.9978e-04 - val_loss: 3.4973e-04\n",
      "Epoch 27/100\n",
      "126/126 [==============================] - 3s 23ms/step - loss: 3.2489e-04 - val_loss: 3.1020e-04\n",
      "Epoch 28/100\n",
      "126/126 [==============================] - 3s 26ms/step - loss: 3.8400e-04 - val_loss: 4.4228e-04\n",
      "Epoch 29/100\n",
      "126/126 [==============================] - 4s 30ms/step - loss: 3.0656e-04 - val_loss: 3.2381e-04\n",
      "Epoch 30/100\n",
      "126/126 [==============================] - 4s 32ms/step - loss: 3.2341e-04 - val_loss: 2.8363e-04\n",
      "Epoch 31/100\n",
      "126/126 [==============================] - 3s 21ms/step - loss: 3.3457e-04 - val_loss: 3.0721e-04\n",
      "Epoch 32/100\n",
      "126/126 [==============================] - 3s 20ms/step - loss: 3.0210e-04 - val_loss: 3.3945e-04\n",
      "Epoch 33/100\n",
      "126/126 [==============================] - 3s 20ms/step - loss: 2.7423e-04 - val_loss: 2.4077e-04\n",
      "Epoch 34/100\n",
      "126/126 [==============================] - 3s 22ms/step - loss: 3.1510e-04 - val_loss: 3.8365e-04\n",
      "Epoch 35/100\n",
      "126/126 [==============================] - 3s 23ms/step - loss: 2.5128e-04 - val_loss: 4.9112e-04\n",
      "Epoch 36/100\n",
      "126/126 [==============================] - 3s 25ms/step - loss: 2.8414e-04 - val_loss: 4.4293e-04\n",
      "Epoch 37/100\n",
      "126/126 [==============================] - 3s 21ms/step - loss: 4.5122e-04 - val_loss: 3.7289e-04\n",
      "Epoch 38/100\n",
      "126/126 [==============================] - 3s 27ms/step - loss: 3.6871e-04 - val_loss: 3.2658e-04\n",
      "Epoch 39/100\n",
      "126/126 [==============================] - 3s 24ms/step - loss: 2.5559e-04 - val_loss: 3.4638e-04\n",
      "Epoch 40/100\n",
      "126/126 [==============================] - 3s 24ms/step - loss: 3.2936e-04 - val_loss: 2.9542e-04\n",
      "Epoch 41/100\n",
      "126/126 [==============================] - 3s 22ms/step - loss: 2.7768e-04 - val_loss: 2.9630e-04\n",
      "Epoch 42/100\n",
      "126/126 [==============================] - 3s 25ms/step - loss: 2.6456e-04 - val_loss: 4.9441e-04\n",
      "Epoch 43/100\n",
      "126/126 [==============================] - 3s 25ms/step - loss: 2.7962e-04 - val_loss: 3.5050e-04\n",
      "Epoch 44/100\n",
      "126/126 [==============================] - 3s 27ms/step - loss: 2.5314e-04 - val_loss: 2.3034e-04\n",
      "Epoch 45/100\n",
      "126/126 [==============================] - 4s 32ms/step - loss: 2.9446e-04 - val_loss: 4.2493e-04\n",
      "Epoch 46/100\n",
      "126/126 [==============================] - 4s 34ms/step - loss: 3.1451e-04 - val_loss: 3.6022e-04\n",
      "Epoch 47/100\n",
      "126/126 [==============================] - 5s 38ms/step - loss: 2.8959e-04 - val_loss: 2.8851e-04\n",
      "Epoch 48/100\n",
      "126/126 [==============================] - 4s 28ms/step - loss: 2.9619e-04 - val_loss: 3.4175e-04\n",
      "Epoch 49/100\n",
      "126/126 [==============================] - 4s 32ms/step - loss: 2.7045e-04 - val_loss: 2.9019e-04\n",
      "Epoch 50/100\n",
      "126/126 [==============================] - 5s 42ms/step - loss: 3.1858e-04 - val_loss: 3.5928e-04\n",
      "Epoch 51/100\n",
      "126/126 [==============================] - 3s 25ms/step - loss: 2.5645e-04 - val_loss: 2.4865e-04\n",
      "Epoch 52/100\n",
      "126/126 [==============================] - 3s 24ms/step - loss: 2.6341e-04 - val_loss: 2.6088e-04\n",
      "Epoch 53/100\n",
      "126/126 [==============================] - 3s 24ms/step - loss: 3.6089e-04 - val_loss: 2.7531e-04\n",
      "Epoch 54/100\n",
      "126/126 [==============================] - 3s 25ms/step - loss: 2.6905e-04 - val_loss: 2.3417e-04\n",
      "Epoch 55/100\n",
      "126/126 [==============================] - 3s 22ms/step - loss: 2.6648e-04 - val_loss: 2.7736e-04\n",
      "Epoch 56/100\n",
      "126/126 [==============================] - 3s 25ms/step - loss: 2.6389e-04 - val_loss: 3.9302e-04\n",
      "Epoch 57/100\n",
      "126/126 [==============================] - 3s 21ms/step - loss: 3.0535e-04 - val_loss: 2.8446e-04\n",
      "Epoch 58/100\n",
      "126/126 [==============================] - 2s 14ms/step - loss: 2.5936e-04 - val_loss: 2.9364e-04\n",
      "Epoch 59/100\n",
      "126/126 [==============================] - 4s 28ms/step - loss: 3.7168e-04 - val_loss: 2.9212e-04\n",
      "Epoch 60/100\n",
      "126/126 [==============================] - 3s 20ms/step - loss: 2.6450e-04 - val_loss: 2.2121e-04\n",
      "Epoch 61/100\n",
      "126/126 [==============================] - 3s 23ms/step - loss: 2.5072e-04 - val_loss: 2.8386e-04\n",
      "Epoch 62/100\n",
      "126/126 [==============================] - 2s 17ms/step - loss: 2.6401e-04 - val_loss: 2.7745e-04\n",
      "Epoch 63/100\n",
      "126/126 [==============================] - 3s 25ms/step - loss: 2.1163e-04 - val_loss: 4.2822e-04\n",
      "Epoch 64/100\n",
      "126/126 [==============================] - 3s 26ms/step - loss: 2.1987e-04 - val_loss: 5.0913e-04\n",
      "Epoch 65/100\n",
      "126/126 [==============================] - 3s 27ms/step - loss: 3.1055e-04 - val_loss: 5.8144e-04\n",
      "Epoch 66/100\n",
      "126/126 [==============================] - 2s 18ms/step - loss: 3.1462e-04 - val_loss: 2.3210e-04\n",
      "Epoch 67/100\n",
      "126/126 [==============================] - 2s 18ms/step - loss: 2.3949e-04 - val_loss: 2.5288e-04\n",
      "Epoch 68/100\n",
      "126/126 [==============================] - 3s 23ms/step - loss: 2.4775e-04 - val_loss: 2.5616e-04\n",
      "Epoch 69/100\n",
      "126/126 [==============================] - 2s 15ms/step - loss: 2.2967e-04 - val_loss: 2.8812e-04\n",
      "Epoch 70/100\n",
      "126/126 [==============================] - 4s 30ms/step - loss: 2.9483e-04 - val_loss: 2.8353e-04\n",
      "Epoch 71/100\n",
      "126/126 [==============================] - 3s 22ms/step - loss: 2.2074e-04 - val_loss: 3.1125e-04\n",
      "Epoch 72/100\n",
      "126/126 [==============================] - 3s 24ms/step - loss: 2.6777e-04 - val_loss: 6.4206e-04\n",
      "Epoch 73/100\n",
      "126/126 [==============================] - 2s 19ms/step - loss: 2.9689e-04 - val_loss: 2.1599e-04\n",
      "Epoch 74/100\n",
      "126/126 [==============================] - 4s 28ms/step - loss: 2.6153e-04 - val_loss: 2.3339e-04\n",
      "Epoch 75/100\n"
     ]
    },
    {
     "name": "stdout",
     "output_type": "stream",
     "text": [
      "126/126 [==============================] - 3s 24ms/step - loss: 2.3625e-04 - val_loss: 2.0060e-04\n",
      "Epoch 76/100\n",
      "126/126 [==============================] - 3s 22ms/step - loss: 2.3443e-04 - val_loss: 2.3114e-04\n",
      "Epoch 77/100\n",
      "126/126 [==============================] - 4s 28ms/step - loss: 2.1764e-04 - val_loss: 2.4336e-04\n",
      "Epoch 78/100\n",
      "126/126 [==============================] - 2s 20ms/step - loss: 2.6214e-04 - val_loss: 3.3575e-04\n",
      "Epoch 79/100\n",
      "126/126 [==============================] - 3s 25ms/step - loss: 2.4510e-04 - val_loss: 2.2570e-04\n",
      "Epoch 80/100\n",
      "126/126 [==============================] - 3s 22ms/step - loss: 2.1450e-04 - val_loss: 2.4989e-04\n",
      "Epoch 81/100\n",
      "126/126 [==============================] - 2s 18ms/step - loss: 2.4858e-04 - val_loss: 2.2018e-04\n",
      "Epoch 82/100\n",
      "126/126 [==============================] - 2s 14ms/step - loss: 2.3978e-04 - val_loss: 2.9973e-04\n",
      "Epoch 83/100\n",
      "126/126 [==============================] - 2s 18ms/step - loss: 2.1034e-04 - val_loss: 2.6732e-04\n",
      "Epoch 84/100\n",
      "126/126 [==============================] - 2s 16ms/step - loss: 2.2511e-04 - val_loss: 2.9862e-04\n",
      "Epoch 85/100\n",
      "126/126 [==============================] - 2s 15ms/step - loss: 2.8296e-04 - val_loss: 2.3129e-04\n",
      "Epoch 86/100\n",
      "126/126 [==============================] - 2s 13ms/step - loss: 2.2527e-04 - val_loss: 2.4668e-04\n",
      "Epoch 87/100\n",
      "126/126 [==============================] - 2s 16ms/step - loss: 2.6871e-04 - val_loss: 2.6986e-04\n",
      "Epoch 88/100\n",
      "126/126 [==============================] - 3s 24ms/step - loss: 2.3208e-04 - val_loss: 2.5293e-04\n",
      "Epoch 89/100\n",
      "126/126 [==============================] - 2s 18ms/step - loss: 2.1933e-04 - val_loss: 2.3834e-04\n",
      "Epoch 90/100\n",
      "126/126 [==============================] - 2s 17ms/step - loss: 2.1988e-04 - val_loss: 2.3123e-04\n",
      "Epoch 91/100\n",
      "126/126 [==============================] - 2s 17ms/step - loss: 2.9240e-04 - val_loss: 2.3142e-04\n",
      "Epoch 92/100\n",
      "126/126 [==============================] - 2s 18ms/step - loss: 2.0861e-04 - val_loss: 2.6556e-04\n",
      "Epoch 93/100\n",
      "126/126 [==============================] - 2s 17ms/step - loss: 2.1114e-04 - val_loss: 2.1164e-04\n",
      "Epoch 94/100\n",
      "126/126 [==============================] - 2s 18ms/step - loss: 2.0790e-04 - val_loss: 2.0875e-04\n",
      "Epoch 95/100\n",
      "126/126 [==============================] - 2s 18ms/step - loss: 2.4397e-04 - val_loss: 3.7628e-04\n",
      "Epoch 96/100\n",
      "126/126 [==============================] - 3s 24ms/step - loss: 2.7645e-04 - val_loss: 2.9709e-04\n",
      "Epoch 97/100\n",
      "126/126 [==============================] - 2s 17ms/step - loss: 2.3026e-04 - val_loss: 1.8713e-04\n",
      "Epoch 98/100\n",
      "126/126 [==============================] - 2s 17ms/step - loss: 2.9237e-04 - val_loss: 3.6506e-04\n",
      "Epoch 99/100\n",
      "126/126 [==============================] - 2s 17ms/step - loss: 2.4019e-04 - val_loss: 2.1878e-04\n",
      "Epoch 100/100\n",
      "126/126 [==============================] - 2s 17ms/step - loss: 2.3661e-04 - val_loss: 2.4036e-04\n"
     ]
    }
   ],
   "source": [
    "history2 = model2.fit(\n",
    "    X_train,\n",
    "    y_train,\n",
    "    batch_size = 32,\n",
    "    epochs=100,\n",
    "    validation_data=(X_val, y_val),\n",
    ")"
   ]
  },
  {
   "cell_type": "code",
   "execution_count": 57,
   "metadata": {
    "id": "djaUsRGha-lS"
   },
   "outputs": [],
   "source": [
    "y_hat = model2.predict(X_test, verbose=0)"
   ]
  },
  {
   "cell_type": "code",
   "execution_count": 58,
   "metadata": {
    "colab": {
     "base_uri": "https://localhost:8080/",
     "height": 621
    },
    "id": "yE6fsPrubEv7",
    "outputId": "94647b52-1b34-4248-c38f-ff59d0ee2457"
   },
   "outputs": [
    {
     "data": {
      "image/png": "[encoded data removed]",
      "text/plain": [
       "<Figure size 432x288 with 1 Axes>"
      ]
     },
     "metadata": {
      "needs_background": "light"
     },
     "output_type": "display_data"
    }
   ],
   "source": [
    "# summarize history for loss\n",
    "plt.plot(history2.history['loss'])\n",
    "plt.plot(history2.history['val_loss'])\n",
    "plt.title('model loss')\n",
    "plt.ylabel('loss')\n",
    "plt.xlabel('epoch')\n",
    "plt.legend(['train', 'test'], loc='upper left')\n",
    "plt.show()"
   ]
  },
  {
   "cell_type": "code",
   "execution_count": 59,
   "metadata": {
    "colab": {
     "base_uri": "https://localhost:8080/",
     "height": 607
    },
    "id": "mNMiVpTZbKk8",
    "outputId": "688b5210-e250-4c20-bcec-a33083a4ef50"
   },
   "outputs": [
    {
     "data": {
      "image/png": "[encoded data removed]",
      "text/plain": [
       "<Figure size 432x288 with 3 Axes>"
      ]
     },
     "metadata": {
      "needs_background": "light"
     },
     "output_type": "display_data"
    }
   ],
   "source": [
    "y_hat_p = (y_hat * y_normalization).swapaxes(0,1)\n",
    "y_test_p = (y_test * y_normalization).swapaxes(0,1) \n",
    "\n",
    "fig, axs = plt.subplots(1,y_size)\n",
    "for idx, (prediction, ground_truth, label) in enumerate(zip(y_hat_p, y_test_p, columns)):\n",
    "  axs[idx].plot(prediction, label='prediction')\n",
    "  axs[idx].plot(ground_truth, label='ground truth')\n",
    "  axs[idx].set_title(label)\n",
    "  axs[idx].legend()\n",
    "\n",
    "plt.show()  "
   ]
  },
  {
   "cell_type": "markdown",
   "metadata": {
    "id": "fQeS9ytvlr7t"
   },
   "source": [
    "# Multivariate multi step MLP prediction with history\n",
    "Final evolution of this method will be adding prediction for K steps in the future.\n",
    "\n",
    "The goal of this method would be to predict K days for *Market Price USD*, *Hash rate* and *Blockchain Size* based on N historical values.\n",
    "\n",
    "$[X_{1}, X_{2}...X_{N}]$ -> $[X_{N+1}, X_{N+2}...X_{N+K}]$\n",
    "\n",
    "where \n",
    "\n",
    "$[x_{price}, x_{hash}, x_{blockchain}] \\subset X_{N+1}$ and $X_{N} = [x_{1}, x_{2}...x_{15}]$"
   ]
  },
  {
   "cell_type": "code",
   "execution_count": 60,
   "metadata": {
    "id": "eGffh7ifmhI_"
   },
   "outputs": [],
   "source": [
    "def split_sequences(sequences, n_history, n_pred):\n",
    "  X, y = list(), list()\n",
    "  for i in range(len(sequences)):\n",
    "    # find the end of this pattern\n",
    "    end_ix = i + n_history + n_pred\n",
    "\t\t# check if we are beyond the dataset\n",
    "    if end_ix > len(sequences) - 1:\n",
    "      break\n",
    "\t\t# gather input and output parts of the pattern\n",
    "    end_hist = i + n_history\n",
    "    end_pred = end_hist + n_pred\n",
    "    seq_x, seq_y = sequences[i:end_hist], sequences[end_hist:end_pred]\n",
    "    X.append(seq_x)\n",
    "    y.append(seq_y)\n",
    "  return np.array(X), np.array(y)"
   ]
  },
  {
   "cell_type": "code",
   "execution_count": 61,
   "metadata": {
    "colab": {
     "base_uri": "https://localhost:8080/"
    },
    "id": "kGTIQ0K6nadh",
    "outputId": "7f4cee0c-aa5c-485a-e088-0a85db294560"
   },
   "outputs": [
    {
     "name": "stdout",
     "output_type": "stream",
     "text": [
      "Dataset shape: (4543, 15)\n",
      "X train: (4025, 480)\n",
      "y train: (4025, 24)\n",
      "X val: (448, 480)\n",
      "y val: (448, 24)\n",
      "X test: (30, 480)\n",
      "y test: (30, 24)\n"
     ]
    }
   ],
   "source": [
    "from sklearn.model_selection import train_test_split\n",
    "\n",
    "df = btc_data.copy()\n",
    "\n",
    "columns = [\"Market Price USD\", \"Hash rate\", \"Blockchain Size\"]\n",
    "columns_idx = [df.columns.get_loc(c) for c in columns if c in df]\n",
    "\n",
    "HISTORY_LENGTH = 32\n",
    "PREDICTION_LENGTH = 8\n",
    "X = df.to_numpy()\n",
    "print(f'Dataset shape: {X.shape}')\n",
    "\n",
    "# Data normalization\n",
    "X_normalization = np.max(X, axis=0)\n",
    "y_normalization = X_normalization[columns_idx]\n",
    "X = X/X_normalization\n",
    "\n",
    "# Split into X and y\n",
    "X, y = split_sequences(X, HISTORY_LENGTH, PREDICTION_LENGTH)\n",
    "y = y[:,:,columns_idx]\n",
    "\n",
    "# flatten input\n",
    "n_input = X.shape[1] * X.shape[2]\n",
    "X = X.reshape((X.shape[0], n_input))\n",
    "\n",
    "# flatten output\n",
    "n_output = y.shape[1] * y.shape[2]\n",
    "y = y.reshape((X.shape[0], n_output))\n",
    "\n",
    "X_size = X.shape[1]\n",
    "y_size = y.shape[1]\n",
    "\n",
    "# Set test data as N last days (there is one record per day)\n",
    "N = 30\n",
    "X, X_test = X[:-N], X[-N:]\n",
    "y, y_test = y[:-N], y[-N:]\n",
    "\n",
    "# Split training and validation datasets\n",
    "X_train, X_val, y_train, y_val = train_test_split(X, y, test_size=0.1, random_state=42)\n",
    "\n",
    "print(f'X train: {X_train.shape}\\ny train: {y_train.shape}')\n",
    "print(f'X val: {X_val.shape}\\ny val: {y_val.shape}')\n",
    "print(f'X test: {X_test.shape}\\ny test: {y_test.shape}')"
   ]
  },
  {
   "cell_type": "code",
   "execution_count": 62,
   "metadata": {
    "colab": {
     "base_uri": "https://localhost:8080/"
    },
    "id": "V_i7aN2OoXTh",
    "outputId": "6aeb8e72-a4e6-4c90-bb71-a7fe1486c3bd"
   },
   "outputs": [
    {
     "name": "stdout",
     "output_type": "stream",
     "text": [
      "Model: \"sequential_2\"\n",
      "_________________________________________________________________\n",
      "Layer (type)                 Output Shape              Param #   \n",
      "=================================================================\n",
      "dense_6 (Dense)              (None, 1024)              492544    \n",
      "_________________________________________________________________\n",
      "dense_7 (Dense)              (None, 256)               262400    \n",
      "_________________________________________________________________\n",
      "dense_8 (Dense)              (None, 24)                6168      \n",
      "=================================================================\n",
      "Total params: 761,112\n",
      "Trainable params: 761,112\n",
      "Non-trainable params: 0\n",
      "_________________________________________________________________\n"
     ]
    }
   ],
   "source": [
    "model3 = Sequential()\n",
    "model3.add(Dense(1024, activation='relu', input_dim=n_input))\n",
    "model3.add(Dense(256, activation='relu'))\n",
    "model3.add(Dense(n_output))\n",
    "model3.compile(optimizer='adam', loss='mse')\n",
    "model3.summary()"
   ]
  },
  {
   "cell_type": "code",
   "execution_count": 63,
   "metadata": {
    "colab": {
     "base_uri": "https://localhost:8080/"
    },
    "id": "Sp_pD5cMojaH",
    "outputId": "37ee7f27-e570-43c2-f722-02876f18ec5e"
   },
   "outputs": [
    {
     "name": "stdout",
     "output_type": "stream",
     "text": [
      "Epoch 1/100\n",
      "126/126 [==============================] - 3s 22ms/step - loss: 0.0146 - val_loss: 6.4361e-04\n",
      "Epoch 2/100\n",
      "126/126 [==============================] - 2s 15ms/step - loss: 6.9477e-04 - val_loss: 5.9025e-04\n",
      "Epoch 3/100\n",
      "126/126 [==============================] - 2s 17ms/step - loss: 6.0799e-04 - val_loss: 5.7754e-04\n",
      "Epoch 4/100\n",
      "126/126 [==============================] - 2s 16ms/step - loss: 6.4664e-04 - val_loss: 8.0241e-04\n",
      "Epoch 5/100\n",
      "126/126 [==============================] - 3s 21ms/step - loss: 6.4198e-04 - val_loss: 4.8010e-04\n",
      "Epoch 6/100\n",
      "126/126 [==============================] - 3s 28ms/step - loss: 4.7612e-04 - val_loss: 7.0571e-04\n",
      "Epoch 7/100\n",
      "126/126 [==============================] - 3s 27ms/step - loss: 5.4420e-04 - val_loss: 7.9156e-04\n",
      "Epoch 8/100\n",
      "126/126 [==============================] - 2s 18ms/step - loss: 5.2361e-04 - val_loss: 3.7325e-04\n",
      "Epoch 9/100\n",
      "126/126 [==============================] - 3s 25ms/step - loss: 4.6906e-04 - val_loss: 8.0723e-04\n",
      "Epoch 10/100\n",
      "126/126 [==============================] - 4s 30ms/step - loss: 5.3618e-04 - val_loss: 4.1741e-04\n",
      "Epoch 11/100\n",
      "126/126 [==============================] - 2s 16ms/step - loss: 4.0096e-04 - val_loss: 4.4868e-04\n",
      "Epoch 12/100\n",
      "126/126 [==============================] - 2s 15ms/step - loss: 4.4329e-04 - val_loss: 4.1428e-04\n",
      "Epoch 13/100\n",
      "126/126 [==============================] - 3s 22ms/step - loss: 3.5483e-04 - val_loss: 3.4236e-04\n",
      "Epoch 14/100\n",
      "126/126 [==============================] - 2s 19ms/step - loss: 3.8221e-04 - val_loss: 3.7994e-04\n",
      "Epoch 15/100\n",
      "126/126 [==============================] - 2s 17ms/step - loss: 3.9646e-04 - val_loss: 4.6909e-04\n",
      "Epoch 16/100\n",
      "126/126 [==============================] - 3s 25ms/step - loss: 3.7109e-04 - val_loss: 4.0302e-04\n",
      "Epoch 17/100\n",
      "126/126 [==============================] - 2s 18ms/step - loss: 3.8389e-04 - val_loss: 3.8522e-04\n",
      "Epoch 18/100\n",
      "126/126 [==============================] - 2s 17ms/step - loss: 5.4426e-04 - val_loss: 2.6011e-04\n",
      "Epoch 19/100\n",
      "126/126 [==============================] - 3s 20ms/step - loss: 3.4725e-04 - val_loss: 2.9513e-04\n",
      "Epoch 20/100\n",
      "126/126 [==============================] - 4s 31ms/step - loss: 3.6285e-04 - val_loss: 3.3524e-04\n",
      "Epoch 21/100\n",
      "126/126 [==============================] - 4s 31ms/step - loss: 3.4343e-04 - val_loss: 3.2050e-04\n",
      "Epoch 22/100\n",
      "126/126 [==============================] - 3s 25ms/step - loss: 4.3714e-04 - val_loss: 3.8622e-04\n",
      "Epoch 23/100\n",
      "126/126 [==============================] - 3s 25ms/step - loss: 3.8677e-04 - val_loss: 8.6707e-04\n",
      "Epoch 24/100\n",
      "126/126 [==============================] - 2s 19ms/step - loss: 6.8970e-04 - val_loss: 3.2400e-04\n",
      "Epoch 25/100\n",
      "126/126 [==============================] - 2s 17ms/step - loss: 3.5231e-04 - val_loss: 2.4531e-04\n",
      "Epoch 26/100\n",
      "126/126 [==============================] - 2s 18ms/step - loss: 3.0708e-04 - val_loss: 2.4259e-04\n",
      "Epoch 27/100\n",
      "126/126 [==============================] - 3s 21ms/step - loss: 3.0866e-04 - val_loss: 3.3053e-04\n",
      "Epoch 28/100\n",
      "126/126 [==============================] - 2s 17ms/step - loss: 3.5597e-04 - val_loss: 2.6607e-04\n",
      "Epoch 29/100\n",
      "126/126 [==============================] - 3s 24ms/step - loss: 3.0640e-04 - val_loss: 2.8778e-04\n",
      "Epoch 30/100\n",
      "126/126 [==============================] - 4s 31ms/step - loss: 3.3168e-04 - val_loss: 2.5783e-04\n",
      "Epoch 31/100\n",
      "126/126 [==============================] - 3s 26ms/step - loss: 4.0120e-04 - val_loss: 3.1591e-04\n",
      "Epoch 32/100\n",
      "126/126 [==============================] - 3s 26ms/step - loss: 3.3106e-04 - val_loss: 2.6571e-04\n",
      "Epoch 33/100\n",
      "126/126 [==============================] - 3s 23ms/step - loss: 3.2611e-04 - val_loss: 3.7749e-04\n",
      "Epoch 34/100\n",
      "126/126 [==============================] - 4s 32ms/step - loss: 2.7746e-04 - val_loss: 3.1209e-04\n",
      "Epoch 35/100\n",
      "126/126 [==============================] - 4s 32ms/step - loss: 2.9244e-04 - val_loss: 3.9200e-04\n",
      "Epoch 36/100\n",
      "126/126 [==============================] - 3s 26ms/step - loss: 3.0896e-04 - val_loss: 2.7264e-04\n",
      "Epoch 37/100\n",
      "126/126 [==============================] - 3s 26ms/step - loss: 2.9893e-04 - val_loss: 2.1483e-04\n",
      "Epoch 38/100\n",
      "126/126 [==============================] - 2s 19ms/step - loss: 3.1081e-04 - val_loss: 2.3973e-04\n",
      "Epoch 39/100\n",
      "126/126 [==============================] - 2s 18ms/step - loss: 2.7484e-04 - val_loss: 2.6512e-04\n",
      "Epoch 40/100\n",
      "126/126 [==============================] - 2s 19ms/step - loss: 3.0619e-04 - val_loss: 2.9829e-04\n",
      "Epoch 41/100\n",
      "126/126 [==============================] - 4s 29ms/step - loss: 2.7444e-04 - val_loss: 2.6284e-04\n",
      "Epoch 42/100\n",
      "126/126 [==============================] - 2s 19ms/step - loss: 3.1587e-04 - val_loss: 3.7152e-04\n",
      "Epoch 43/100\n",
      "126/126 [==============================] - 2s 16ms/step - loss: 4.5308e-04 - val_loss: 2.8779e-04\n",
      "Epoch 44/100\n",
      "126/126 [==============================] - 2s 14ms/step - loss: 3.1458e-04 - val_loss: 3.0762e-04\n",
      "Epoch 45/100\n",
      "126/126 [==============================] - 2s 15ms/step - loss: 2.8845e-04 - val_loss: 3.1309e-04\n",
      "Epoch 46/100\n",
      "126/126 [==============================] - 2s 16ms/step - loss: 2.5929e-04 - val_loss: 2.3836e-04\n",
      "Epoch 47/100\n",
      "126/126 [==============================] - 2s 15ms/step - loss: 2.8440e-04 - val_loss: 2.3538e-04\n",
      "Epoch 48/100\n",
      "126/126 [==============================] - 2s 15ms/step - loss: 2.7279e-04 - val_loss: 2.6940e-04\n",
      "Epoch 49/100\n",
      "126/126 [==============================] - 2s 18ms/step - loss: 2.8520e-04 - val_loss: 2.4002e-04\n",
      "Epoch 50/100\n",
      "126/126 [==============================] - 3s 20ms/step - loss: 2.5887e-04 - val_loss: 2.2305e-04\n",
      "Epoch 51/100\n",
      "126/126 [==============================] - 3s 20ms/step - loss: 2.6625e-04 - val_loss: 2.1633e-04\n",
      "Epoch 52/100\n",
      "126/126 [==============================] - 3s 23ms/step - loss: 2.7599e-04 - val_loss: 2.6781e-04\n",
      "Epoch 53/100\n",
      "126/126 [==============================] - 2s 17ms/step - loss: 2.9536e-04 - val_loss: 2.0454e-04\n",
      "Epoch 54/100\n",
      "126/126 [==============================] - 2s 17ms/step - loss: 2.5437e-04 - val_loss: 2.4906e-04\n",
      "Epoch 55/100\n",
      "126/126 [==============================] - 2s 15ms/step - loss: 3.4395e-04 - val_loss: 2.5700e-04\n",
      "Epoch 56/100\n",
      "126/126 [==============================] - 2s 17ms/step - loss: 2.9821e-04 - val_loss: 2.3405e-04\n",
      "Epoch 57/100\n",
      "126/126 [==============================] - 2s 15ms/step - loss: 3.0099e-04 - val_loss: 2.1887e-04\n",
      "Epoch 58/100\n",
      "126/126 [==============================] - 4s 30ms/step - loss: 3.0960e-04 - val_loss: 2.2165e-04\n",
      "Epoch 59/100\n",
      "126/126 [==============================] - 3s 22ms/step - loss: 2.9546e-04 - val_loss: 2.3866e-04\n",
      "Epoch 60/100\n",
      "126/126 [==============================] - 2s 19ms/step - loss: 2.7486e-04 - val_loss: 2.4181e-04\n",
      "Epoch 61/100\n",
      "126/126 [==============================] - 2s 19ms/step - loss: 2.5319e-04 - val_loss: 2.0798e-04\n",
      "Epoch 62/100\n",
      "126/126 [==============================] - 2s 16ms/step - loss: 2.4739e-04 - val_loss: 2.1049e-04\n",
      "Epoch 63/100\n",
      "126/126 [==============================] - 2s 18ms/step - loss: 2.5594e-04 - val_loss: 2.1690e-04\n",
      "Epoch 64/100\n",
      "126/126 [==============================] - 3s 20ms/step - loss: 2.5487e-04 - val_loss: 2.2513e-04\n",
      "Epoch 65/100\n",
      "126/126 [==============================] - 3s 22ms/step - loss: 2.4514e-04 - val_loss: 2.5646e-04\n",
      "Epoch 66/100\n",
      "126/126 [==============================] - 3s 25ms/step - loss: 2.9989e-04 - val_loss: 2.4750e-04\n",
      "Epoch 67/100\n",
      "126/126 [==============================] - 3s 27ms/step - loss: 2.6880e-04 - val_loss: 2.3402e-04\n",
      "Epoch 68/100\n",
      "126/126 [==============================] - 2s 18ms/step - loss: 2.4205e-04 - val_loss: 3.4146e-04\n",
      "Epoch 69/100\n",
      "126/126 [==============================] - 4s 32ms/step - loss: 2.8016e-04 - val_loss: 2.2706e-04\n",
      "Epoch 70/100\n",
      "126/126 [==============================] - 3s 25ms/step - loss: 2.4917e-04 - val_loss: 2.0545e-04\n",
      "Epoch 71/100\n",
      "126/126 [==============================] - 3s 21ms/step - loss: 2.3036e-04 - val_loss: 6.6213e-04\n",
      "Epoch 72/100\n",
      "126/126 [==============================] - 3s 25ms/step - loss: 3.7622e-04 - val_loss: 2.1632e-04\n",
      "Epoch 73/100\n",
      "126/126 [==============================] - 3s 28ms/step - loss: 2.5591e-04 - val_loss: 2.3527e-04\n",
      "Epoch 74/100\n",
      "126/126 [==============================] - 4s 31ms/step - loss: 2.1884e-04 - val_loss: 2.4222e-04\n"
     ]
    },
    {
     "name": "stdout",
     "output_type": "stream",
     "text": [
      "Epoch 75/100\n",
      "126/126 [==============================] - 3s 26ms/step - loss: 2.6046e-04 - val_loss: 3.6604e-04\n",
      "Epoch 76/100\n",
      "126/126 [==============================] - 2s 17ms/step - loss: 2.8479e-04 - val_loss: 2.7063e-04\n",
      "Epoch 77/100\n",
      "126/126 [==============================] - 3s 26ms/step - loss: 2.6645e-04 - val_loss: 2.6252e-04\n",
      "Epoch 78/100\n",
      "126/126 [==============================] - 3s 23ms/step - loss: 2.4978e-04 - val_loss: 2.6680e-04\n",
      "Epoch 79/100\n",
      "126/126 [==============================] - 3s 27ms/step - loss: 2.6999e-04 - val_loss: 2.2648e-04\n",
      "Epoch 80/100\n",
      "126/126 [==============================] - 4s 29ms/step - loss: 2.3577e-04 - val_loss: 2.2401e-04\n",
      "Epoch 81/100\n",
      "126/126 [==============================] - 3s 23ms/step - loss: 2.2014e-04 - val_loss: 2.4688e-04\n",
      "Epoch 82/100\n",
      "126/126 [==============================] - 4s 34ms/step - loss: 2.6543e-04 - val_loss: 1.9128e-04\n",
      "Epoch 83/100\n",
      "126/126 [==============================] - 4s 29ms/step - loss: 2.6505e-04 - val_loss: 2.2652e-04\n",
      "Epoch 84/100\n",
      "126/126 [==============================] - 2s 19ms/step - loss: 2.4892e-04 - val_loss: 3.1636e-04\n",
      "Epoch 85/100\n",
      "126/126 [==============================] - 3s 21ms/step - loss: 2.9136e-04 - val_loss: 2.7468e-04\n",
      "Epoch 86/100\n",
      "126/126 [==============================] - 3s 23ms/step - loss: 2.5007e-04 - val_loss: 2.0357e-04\n",
      "Epoch 87/100\n",
      "126/126 [==============================] - 4s 28ms/step - loss: 2.1897e-04 - val_loss: 2.3373e-04\n",
      "Epoch 88/100\n",
      "126/126 [==============================] - 3s 20ms/step - loss: 2.4806e-04 - val_loss: 2.2892e-04\n",
      "Epoch 89/100\n",
      "126/126 [==============================] - 2s 19ms/step - loss: 2.8370e-04 - val_loss: 2.1263e-04\n",
      "Epoch 90/100\n",
      "126/126 [==============================] - 4s 30ms/step - loss: 2.6658e-04 - val_loss: 3.1183e-04\n",
      "Epoch 91/100\n",
      "126/126 [==============================] - 3s 23ms/step - loss: 2.7783e-04 - val_loss: 2.7937e-04\n",
      "Epoch 92/100\n",
      "126/126 [==============================] - 4s 30ms/step - loss: 2.6804e-04 - val_loss: 2.1432e-04\n",
      "Epoch 93/100\n",
      "126/126 [==============================] - 3s 25ms/step - loss: 2.4563e-04 - val_loss: 2.0771e-04\n",
      "Epoch 94/100\n",
      "126/126 [==============================] - 2s 17ms/step - loss: 2.3559e-04 - val_loss: 1.9977e-04\n",
      "Epoch 95/100\n",
      "126/126 [==============================] - 3s 21ms/step - loss: 2.2831e-04 - val_loss: 2.0410e-04\n",
      "Epoch 96/100\n",
      "126/126 [==============================] - 2s 18ms/step - loss: 2.5857e-04 - val_loss: 2.3990e-04\n",
      "Epoch 97/100\n",
      "126/126 [==============================] - 3s 22ms/step - loss: 2.5556e-04 - val_loss: 1.9635e-04\n",
      "Epoch 98/100\n",
      "126/126 [==============================] - 6s 44ms/step - loss: 2.3662e-04 - val_loss: 2.9304e-04\n",
      "Epoch 99/100\n",
      "126/126 [==============================] - 3s 24ms/step - loss: 2.3147e-04 - val_loss: 2.2182e-04\n",
      "Epoch 100/100\n",
      "126/126 [==============================] - 3s 25ms/step - loss: 2.4150e-04 - val_loss: 2.0445e-04\n"
     ]
    }
   ],
   "source": [
    "history3 = model3.fit(\n",
    "    X_train,\n",
    "    y_train,\n",
    "    batch_size = 32,\n",
    "    epochs=100,\n",
    "    validation_data=(X_val, y_val),\n",
    ")"
   ]
  },
  {
   "cell_type": "code",
   "execution_count": 64,
   "metadata": {
    "id": "a-9gAMQHo1_u"
   },
   "outputs": [],
   "source": [
    "y_hat = model3.predict(X_test, verbose=0)"
   ]
  },
  {
   "cell_type": "code",
   "execution_count": 65,
   "metadata": {
    "colab": {
     "base_uri": "https://localhost:8080/",
     "height": 621
    },
    "id": "ZQfWBNYyo6jy",
    "outputId": "67af68c6-10a5-41ec-8f8c-94b1792aa81a"
   },
   "outputs": [
    {
     "data": {
      "image/png": "[encoded data removed]",
      "text/plain": [
       "<Figure size 432x288 with 1 Axes>"
      ]
     },
     "metadata": {
      "needs_background": "light"
     },
     "output_type": "display_data"
    }
   ],
   "source": [
    "# summarize history for loss\n",
    "plt.plot(history3.history['loss'])\n",
    "plt.plot(history3.history['val_loss'])\n",
    "plt.title('model loss')\n",
    "plt.ylabel('loss')\n",
    "plt.xlabel('epoch')\n",
    "plt.legend(['train', 'test'], loc='upper left')\n",
    "plt.show()"
   ]
  },
  {
   "cell_type": "code",
   "execution_count": 66,
   "metadata": {
    "colab": {
     "base_uri": "https://localhost:8080/"
    },
    "id": "HvCY-0aUpfPA",
    "outputId": "f193f118-d5eb-4eab-9ac1-6efc44536fbe"
   },
   "outputs": [
    {
     "data": {
      "text/plain": [
       "(30, 8, 3)"
      ]
     },
     "execution_count": 66,
     "metadata": {},
     "output_type": "execute_result"
    }
   ],
   "source": [
    "y_hat.reshape(-1, PREDICTION_LENGTH, len(columns)).shape"
   ]
  },
  {
   "cell_type": "code",
   "execution_count": 67,
   "metadata": {
    "colab": {
     "base_uri": "https://localhost:8080/",
     "height": 607
    },
    "id": "G_kHvnh2o_5Y",
    "outputId": "ca37f45e-c466-49a8-c399-7677e11630e0"
   },
   "outputs": [
    {
     "data": {
      "image/png": "[encoded data removed]",
      "text/plain": [
       "<Figure size 432x288 with 3 Axes>"
      ]
     },
     "metadata": {
      "needs_background": "light"
     },
     "output_type": "display_data"
    }
   ],
   "source": [
    "PREDICICTION_DAY = 7\n",
    "\n",
    "y1 = y_hat.reshape(-1, PREDICTION_LENGTH, len(columns))\n",
    "y2 = y_test.reshape(-1, PREDICTION_LENGTH, len(columns))\n",
    "\n",
    "y_hat_p = (y1[:,PREDICICTION_DAY] * y_normalization).swapaxes(0,1)\n",
    "y_test_p = (y2[:,PREDICICTION_DAY] * y_normalization).swapaxes(0,1)\n",
    "\n",
    "fig, axs = plt.subplots(1,len(columns))\n",
    "for idx, (prediction, ground_truth, label) in enumerate(zip(y_hat_p, y_test_p, columns)):\n",
    "  axs[idx].plot(prediction, label='prediction')\n",
    "  axs[idx].plot(ground_truth, label='ground truth')\n",
    "  axs[idx].set_title(label)\n",
    "  axs[idx].legend()\n",
    "\n",
    "plt.show()  "
   ]
  }
 ],
 "metadata": {
  "accelerator": "GPU",
  "colab": {
   "collapsed_sections": [],
   "name": "btc_quandl_data.ipynb",
   "provenance": []
  },
  "kernelspec": {
   "display_name": "Python 3",
   "language": "python",
   "name": "python3"
  },
  "language_info": {
   "codemirror_mode": {
    "name": "ipython",
    "version": 3
   },
   "file_extension": ".py",
   "mimetype": "text/x-python",
   "name": "python",
   "nbconvert_exporter": "python",
   "pygments_lexer": "ipython3",
   "version": "3.8.2"
  }
 },
 "nbformat": 4,
 "nbformat_minor": 1
}
